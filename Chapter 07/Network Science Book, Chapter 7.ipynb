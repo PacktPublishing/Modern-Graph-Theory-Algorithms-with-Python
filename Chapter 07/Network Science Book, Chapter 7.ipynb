{
 "cells": [
  {
   "cell_type": "markdown",
   "id": "9af2c6c9",
   "metadata": {},
   "source": [
    "Chapter 7: Spatiotemporal Data"
   ]
  },
  {
   "cell_type": "markdown",
   "id": "d5ea4f83",
   "metadata": {},
   "source": [
    "Script 7-1: Analysis of Burkina Faso Market Dataset"
   ]
  },
  {
   "cell_type": "code",
   "execution_count": 2,
   "id": "a38937f0",
   "metadata": {},
   "outputs": [],
   "source": [
    "#import packages\n",
    "import igraph as ig\n",
    "from igraph import Graph\n",
    "import numpy as np\n",
    "import pandas as pd\n",
    "import os\n",
    "import matplotlib.pyplot as plt"
   ]
  },
  {
   "cell_type": "code",
   "execution_count": 3,
   "id": "0eae8082",
   "metadata": {},
   "outputs": [],
   "source": [
    "#import Burkina Faso market millet prices\n",
    "File=\"/Users/franckm/Documents/draftcodefiles/BF_Millet.csv\"\n",
    "pwd=os.getcwd()\n",
    "os.chdir(os.path.dirname(File))\n",
    "mydata=pd.read_csv(os.path.basename(File),encoding='latin1')"
   ]
  },
  {
   "cell_type": "code",
   "execution_count": 4,
   "id": "a631cd7f",
   "metadata": {},
   "outputs": [],
   "source": [
    "#import weight matrix of Burkina Faso markets\n",
    "File=\"/Users/franckm/Documents/draftcodefiles/weights_bk.csv\"\n",
    "pwd=os.getcwd()\n",
    "os.chdir(os.path.dirname(File))\n",
    "weights=pd.read_csv(os.path.basename(File),encoding='latin1')"
   ]
  },
  {
   "cell_type": "code",
   "execution_count": 5,
   "id": "7d29310a",
   "metadata": {},
   "outputs": [],
   "source": [
    "#score in yearly sets with 3 quarter overlap\n",
    "vcurv_t=[]\n",
    "vcurv_ave=[]\n",
    "eig_t=[]\n",
    "eig_ave=[]\n",
    "nets=[]\n",
    "for Year in range(4,29):\n",
    "    data=mydata.iloc[(Year-4):(Year),1:46]\n",
    "    cor=np.corrcoef(data.transpose())\n",
    "    weights_total=weights.iloc[:,1:46]\n",
    "    cor[cor>=0.9]=1\n",
    "    cor[cor<0.9]=0\n",
    "    cor_weighted=np.multiply(cor,weights_total)\n",
    "    bf_market_w=Graph.Adjacency(cor_weighted,diag=False)\n",
    "    edge_list=bf_market_w.get_edgelist()\n",
    "    self_loop=[]\n",
    "    for i in range(0,46):\n",
    "        self=(i,i)\n",
    "        self_loop.append(self)\n",
    "    to_remove=[]\n",
    "    for i in edge_list:\n",
    "        for j in self_loop:\n",
    "            if i==j:\n",
    "                to_remove.append(i)\n",
    "    bf_market_w.delete_edges(to_remove)\n",
    "    nets.append(bf_market_w)\n",
    "    d=Graph.degree(bf_market_w)\n",
    "    e=Graph.pagerank(bf_market_w)\n",
    "    eig_t.append(e)\n",
    "    eig_ave.append(np.mean(e))\n",
    "    ecurvw=[]\n",
    "    for edge in bf_market_w.es:\n",
    "        s=edge.source\n",
    "        t=edge.target\n",
    "        ecurvw.append(2-d[s]-d[t])\n",
    "    vcurvw=[]\n",
    "    for vertex in bf_market_w.vs:\n",
    "        inc=Graph.incident(bf_market_w,vertex)\n",
    "        inc_curv=[]\n",
    "        for i in inc:\n",
    "            inc_curv.append(ecurvw[i])\n",
    "        vcurvw.append(sum(inc_curv))\n",
    "    vcurv_t.append(vcurvw)\n",
    "    vcurv_ave.append(np.mean(vcurv_t))"
   ]
  },
  {
   "cell_type": "code",
   "execution_count": 6,
   "id": "b9d290a2",
   "metadata": {},
   "outputs": [
    {
     "data": {
      "image/png": "[encoded data removed]",
      "text/plain": [
       "<Figure size 432x288 with 1 Axes>"
      ]
     },
     "metadata": {
      "needs_background": "light"
     },
     "output_type": "display_data"
    }
   ],
   "source": [
    "#plot metric averages across time slices\n",
    "time=range(0,25)\n",
    "plt.plot(time, eig_ave, label = \"Pagerank Average\")\n",
    "plt.plot(time, vcurv_ave, label = \"Forman-Ricci Curvature Avereage\")\n",
    "plt.legend()\n",
    "plt.show()"
   ]
  },
  {
   "cell_type": "code",
   "execution_count": 7,
   "id": "78d1b718",
   "metadata": {},
   "outputs": [
    {
     "data": {
      "image/svg+xml": [
       "<?xml version=\"1.0\" encoding=\"UTF-8\"?>\n",
       "<svg xmlns=\"http://www.w3.org/2000/svg\" xmlns:xlink=\"http://www.w3.org/1999/xlink\" width=\"600pt\" height=\"600pt\" viewBox=\"0 0 600 600\" version=\"1.1\">\n",
       "<g id=\"surface2\">\n",
       "<rect x=\"0\" y=\"0\" width=\"600\" height=\"600\" style=\"fill:rgb(100%,100%,100%);fill-opacity:1;stroke:none;\"/>\n",
       "<path style=\"fill:none;stroke-width:1;stroke-linecap:butt;stroke-linejoin:miter;stroke:rgb(26.666667%,26.666667%,26.666667%);stroke-opacity:1;stroke-miterlimit:10;\" d=\"M 330.566406 151.042969 C 339.226562 144.035156 337.324219 125.027344 337.101562 125.117188 \"/>\n",
       "<path style=\" stroke:none;fill-rule:nonzero;fill:rgb(26.666667%,26.666667%,26.666667%);fill-opacity:1;\" d=\"M 350.375 119.890625 L 338.800781 129.429688 L 335.402344 120.804688 L 350.375 119.890625 \"/>\n",
       "<path style=\"fill:none;stroke-width:1;stroke-linecap:butt;stroke-linejoin:miter;stroke:rgb(26.666667%,26.666667%,26.666667%);stroke-opacity:1;stroke-miterlimit:10;\" d=\"M 350.839844 119.707031 C 331.234375 121.515625 320.027344 151.300781 315.804688 151.40625 \"/>\n",
       "<path style=\" stroke:none;fill-rule:nonzero;fill:rgb(26.666667%,26.666667%,26.666667%);fill-opacity:1;\" d=\"M 330.066406 151.058594 L 315.917969 156.039062 L 315.691406 146.773438 L 330.066406 151.058594 \"/>\n",
       "<path style=\"fill:none;stroke-width:1;stroke-linecap:butt;stroke-linejoin:miter;stroke:rgb(26.666667%,26.666667%,26.666667%);stroke-opacity:1;stroke-miterlimit:10;\" d=\"M 222.011719 235.015625 C 213.285156 240.679688 215.640625 249.84375 213.410156 258.449219 \"/>\n",
       "<path style=\" stroke:none;fill-rule:nonzero;fill:rgb(26.666667%,26.666667%,26.666667%);fill-opacity:1;\" d=\"M 209.828125 272.257812 L 208.921875 257.289062 L 217.894531 259.613281 L 209.828125 272.257812 \"/>\n",
       "<path style=\"fill:none;stroke-width:1;stroke-linecap:butt;stroke-linejoin:miter;stroke:rgb(26.666667%,26.666667%,26.666667%);stroke-opacity:1;stroke-miterlimit:10;\" d=\"M 523.136719 451.5625 C 506.140625 446.871094 482.449219 466.058594 483.742188 467.03125 \"/>\n",
       "<path style=\" stroke:none;fill-rule:nonzero;fill:rgb(26.666667%,26.666667%,26.666667%);fill-opacity:1;\" d=\"M 495.140625 475.609375 L 480.957031 470.734375 L 486.527344 463.328125 L 495.140625 475.609375 \"/>\n",
       "<path style=\"fill:none;stroke-width:1;stroke-linecap:butt;stroke-linejoin:miter;stroke:rgb(26.666667%,26.666667%,26.666667%);stroke-opacity:1;stroke-miterlimit:10;\" d=\"M 199.269531 314.226562 C 217.4375 308.191406 228.710938 276.921875 225.453125 276.476562 \"/>\n",
       "<path style=\" stroke:none;fill-rule:nonzero;fill:rgb(26.666667%,26.666667%,26.666667%);fill-opacity:1;\" d=\"M 211.320312 274.554688 L 226.082031 271.886719 L 224.828125 281.070312 L 211.320312 274.554688 \"/>\n",
       "<path style=\"fill:none;stroke-width:1;stroke-linecap:butt;stroke-linejoin:miter;stroke:rgb(26.666667%,26.666667%,26.666667%);stroke-opacity:1;stroke-miterlimit:10;\" d=\"M 209.304688 274.277344 C 226.488281 269.902344 241.988281 243.757812 235.992188 241.132812 \"/>\n",
       "<path style=\" stroke:none;fill-rule:nonzero;fill:rgb(26.666667%,26.666667%,26.666667%);fill-opacity:1;\" d=\"M 222.921875 235.417969 L 237.851562 236.886719 L 234.136719 245.378906 L 222.921875 235.417969 \"/>\n",
       "<path style=\"fill:none;stroke-width:1;stroke-linecap:butt;stroke-linejoin:miter;stroke:rgb(26.666667%,26.666667%,26.666667%);stroke-opacity:1;stroke-miterlimit:10;\" d=\"M 209.304688 274.277344 C 202.320312 284.441406 211.070312 303.34375 210.527344 303.847656 \"/>\n",
       "<path style=\" stroke:none;fill-rule:nonzero;fill:rgb(26.666667%,26.666667%,26.666667%);fill-opacity:1;\" d=\"M 200.039062 313.519531 L 207.382812 300.441406 L 213.667969 307.253906 L 200.039062 313.519531 \"/>\n",
       "<path style=\"fill:none;stroke-width:1;stroke-linecap:butt;stroke-linejoin:miter;stroke:rgb(26.666667%,26.666667%,26.666667%);stroke-opacity:1;stroke-miterlimit:10;\" d=\"M 336.820312 293.246094 C 343.359375 284.835938 335.585938 269.679688 337.257812 267.683594 \"/>\n",
       "<path style=\" stroke:none;fill-rule:nonzero;fill:rgb(26.666667%,26.666667%,26.666667%);fill-opacity:1;\" d=\"M 346.421875 256.75 L 340.808594 270.660156 L 333.703125 264.707031 L 346.421875 256.75 \"/>\n",
       "<path style=\"fill:none;stroke-width:1;stroke-linecap:butt;stroke-linejoin:miter;stroke:rgb(26.666667%,26.666667%,26.666667%);stroke-opacity:1;stroke-miterlimit:10;\" d=\"M 371.148438 413.511719 C 373.214844 424.613281 380.703125 434.289062 391.109375 431.855469 \"/>\n",
       "<path style=\" stroke:none;fill-rule:nonzero;fill:rgb(26.666667%,26.666667%,26.666667%);fill-opacity:1;\" d=\"M 405 428.605469 L 392.164062 436.367188 L 390.050781 427.339844 L 405 428.605469 \"/>\n",
       "<path style=\"fill:none;stroke-width:1;stroke-linecap:butt;stroke-linejoin:miter;stroke:rgb(26.666667%,26.666667%,26.666667%);stroke-opacity:1;stroke-miterlimit:10;\" d=\"M 346.738281 256.371094 C 330.128906 261.585938 318.617188 289.539062 322.363281 290.300781 \"/>\n",
       "<path style=\" stroke:none;fill-rule:nonzero;fill:rgb(26.666667%,26.666667%,26.666667%);fill-opacity:1;\" d=\"M 336.339844 293.148438 L 321.4375 294.84375 L 323.289062 285.761719 L 336.339844 293.148438 \"/>\n",
       "<path style=\"fill:none;stroke-width:1;stroke-linecap:butt;stroke-linejoin:miter;stroke:rgb(26.666667%,26.666667%,26.666667%);stroke-opacity:1;stroke-miterlimit:10;\" d=\"M 405.476562 428.496094 C 403.367188 417.488281 396.023438 408.144531 385.582031 410.398438 \"/>\n",
       "<path style=\" stroke:none;fill-rule:nonzero;fill:rgb(26.666667%,26.666667%,26.666667%);fill-opacity:1;\" d=\"M 371.636719 413.40625 L 384.601562 405.867188 L 386.558594 414.929688 L 371.636719 413.40625 \"/>\n",
       "<path style=\"fill:none;stroke-width:1;stroke-linecap:butt;stroke-linejoin:miter;stroke:rgb(26.666667%,26.666667%,26.666667%);stroke-opacity:1;stroke-miterlimit:10;\" d=\"M 495.558594 475.921875 C 504.703125 475.03125 506.386719 465.617188 511.835938 461.046875 \"/>\n",
       "<path style=\" stroke:none;fill-rule:nonzero;fill:rgb(26.666667%,26.666667%,26.666667%);fill-opacity:1;\" d=\"M 522.761719 451.878906 L 514.8125 464.597656 L 508.855469 457.496094 L 522.761719 451.878906 \"/>\n",
       "<path style=\"fill-rule:nonzero;fill:rgb(100%,0%,0%);fill-opacity:1;stroke-width:1;stroke-linecap:butt;stroke-linejoin:miter;stroke:rgb(0%,0%,0%);stroke-opacity:1;stroke-miterlimit:10;\" d=\"M 331.066406 151.042969 C 331.066406 151.710938 330.066406 151.710938 330.066406 151.042969 C 330.066406 150.378906 331.066406 150.378906 331.066406 151.042969 \"/>\n",
       "<path style=\"fill:none;stroke-width:1;stroke-linecap:butt;stroke-linejoin:miter;stroke:rgb(0%,0%,0%);stroke-opacity:1;stroke-miterlimit:10;\" d=\"M 180.023438 552.152344 L 180.023438 552.152344 \"/>\n",
       "<path style=\"fill-rule:nonzero;fill:rgb(100%,0%,0%);fill-opacity:1;stroke-width:1;stroke-linecap:butt;stroke-linejoin:miter;stroke:rgb(0%,0%,0%);stroke-opacity:1;stroke-miterlimit:10;\" d=\"M 351.339844 119.707031 C 351.339844 120.375 350.339844 120.375 350.339844 119.707031 C 350.339844 119.039062 351.339844 119.039062 351.339844 119.707031 \"/>\n",
       "<path style=\"fill:none;stroke-width:1;stroke-linecap:butt;stroke-linejoin:miter;stroke:rgb(0%,0%,0%);stroke-opacity:1;stroke-miterlimit:10;\" d=\"M 206.5625 34.148438 L 206.5625 34.148438 \"/>\n",
       "<path style=\"fill:none;stroke-width:1;stroke-linecap:butt;stroke-linejoin:miter;stroke:rgb(0%,0%,0%);stroke-opacity:1;stroke-miterlimit:10;\" d=\"M 335.835938 580 L 335.835938 580 \"/>\n",
       "<path style=\"fill:none;stroke-width:1;stroke-linecap:butt;stroke-linejoin:miter;stroke:rgb(0%,0%,0%);stroke-opacity:1;stroke-miterlimit:10;\" d=\"M 451.691406 63.160156 L 451.691406 63.160156 \"/>\n",
       "<path style=\"fill:none;stroke-width:1;stroke-linecap:butt;stroke-linejoin:miter;stroke:rgb(0%,0%,0%);stroke-opacity:1;stroke-miterlimit:10;\" d=\"M 447.085938 214.9375 L 447.085938 214.9375 \"/>\n",
       "<path style=\"fill:none;stroke-width:1;stroke-linecap:butt;stroke-linejoin:miter;stroke:rgb(0%,0%,0%);stroke-opacity:1;stroke-miterlimit:10;\" d=\"M 69.703125 447.589844 L 69.703125 447.589844 \"/>\n",
       "<path style=\"fill:none;stroke-width:1;stroke-linecap:butt;stroke-linejoin:miter;stroke:rgb(0%,0%,0%);stroke-opacity:1;stroke-miterlimit:10;\" d=\"M 441.90625 138.207031 L 441.90625 138.207031 \"/>\n",
       "<path style=\"fill-rule:nonzero;fill:rgb(100%,0%,0%);fill-opacity:1;stroke-width:1;stroke-linecap:butt;stroke-linejoin:miter;stroke:rgb(0%,0%,0%);stroke-opacity:1;stroke-miterlimit:10;\" d=\"M 223.011719 235.015625 C 223.011719 236.351562 221.011719 236.351562 221.011719 235.015625 C 221.011719 233.683594 223.011719 233.683594 223.011719 235.015625 \"/>\n",
       "<path style=\"fill-rule:nonzero;fill:rgb(100%,0%,0%);fill-opacity:1;stroke-width:1;stroke-linecap:butt;stroke-linejoin:miter;stroke:rgb(0%,0%,0%);stroke-opacity:1;stroke-miterlimit:10;\" d=\"M 523.636719 451.5625 C 523.636719 452.230469 522.636719 452.230469 522.636719 451.5625 C 522.636719 450.894531 523.636719 450.894531 523.636719 451.5625 \"/>\n",
       "<path style=\"fill:none;stroke-width:1;stroke-linecap:butt;stroke-linejoin:miter;stroke:rgb(0%,0%,0%);stroke-opacity:1;stroke-miterlimit:10;\" d=\"M 552.292969 196.761719 L 552.292969 196.761719 \"/>\n",
       "<path style=\"fill:none;stroke-width:1;stroke-linecap:butt;stroke-linejoin:miter;stroke:rgb(0%,0%,0%);stroke-opacity:1;stroke-miterlimit:10;\" d=\"M 296.804688 20 L 296.804688 20 \"/>\n",
       "<path style=\"fill:none;stroke-width:1;stroke-linecap:butt;stroke-linejoin:miter;stroke:rgb(0%,0%,0%);stroke-opacity:1;stroke-miterlimit:10;\" d=\"M 580 279.472656 L 580 279.472656 \"/>\n",
       "<path style=\"fill:none;stroke-width:1;stroke-linecap:butt;stroke-linejoin:miter;stroke:rgb(0%,0%,0%);stroke-opacity:1;stroke-miterlimit:10;\" d=\"M 572.246094 365.175781 L 572.246094 365.175781 \"/>\n",
       "<path style=\"fill-rule:nonzero;fill:rgb(100%,0%,0%);fill-opacity:1;stroke-width:1;stroke-linecap:butt;stroke-linejoin:miter;stroke:rgb(0%,0%,0%);stroke-opacity:1;stroke-miterlimit:10;\" d=\"M 200.269531 314.226562 C 200.269531 315.5625 198.269531 315.5625 198.269531 314.226562 C 198.269531 312.894531 200.269531 312.894531 200.269531 314.226562 \"/>\n",
       "<path style=\"fill-rule:nonzero;fill:rgb(100%,0%,0%);fill-opacity:1;stroke-width:1;stroke-linecap:butt;stroke-linejoin:miter;stroke:rgb(0%,0%,0%);stroke-opacity:1;stroke-miterlimit:10;\" d=\"M 211.304688 274.277344 C 211.304688 276.945312 207.304688 276.945312 207.304688 274.277344 C 207.304688 271.613281 211.304688 271.613281 211.304688 274.277344 \"/>\n",
       "<path style=\"fill-rule:nonzero;fill:rgb(100%,0%,0%);fill-opacity:1;stroke-width:1;stroke-linecap:butt;stroke-linejoin:miter;stroke:rgb(0%,0%,0%);stroke-opacity:1;stroke-miterlimit:10;\" d=\"M 337.320312 293.246094 C 337.320312 293.914062 336.320312 293.914062 336.320312 293.246094 C 336.320312 292.582031 337.320312 292.582031 337.320312 293.246094 \"/>\n",
       "<path style=\"fill:none;stroke-width:1;stroke-linecap:butt;stroke-linejoin:miter;stroke:rgb(0%,0%,0%);stroke-opacity:1;stroke-miterlimit:10;\" d=\"M 259.121094 91.550781 L 259.121094 91.550781 \"/>\n",
       "<path style=\"fill:none;stroke-width:1;stroke-linecap:butt;stroke-linejoin:miter;stroke:rgb(0%,0%,0%);stroke-opacity:1;stroke-miterlimit:10;\" d=\"M 519.019531 127.867188 L 519.019531 127.867188 \"/>\n",
       "<path style=\"fill-rule:nonzero;fill:rgb(100%,0%,0%);fill-opacity:1;stroke-width:1;stroke-linecap:butt;stroke-linejoin:miter;stroke:rgb(0%,0%,0%);stroke-opacity:1;stroke-miterlimit:10;\" d=\"M 371.648438 413.511719 C 371.648438 414.175781 370.648438 414.175781 370.648438 413.511719 C 370.648438 412.84375 371.648438 412.84375 371.648438 413.511719 \"/>\n",
       "<path style=\"fill:none;stroke-width:1;stroke-linecap:butt;stroke-linejoin:miter;stroke:rgb(0%,0%,0%);stroke-opacity:1;stroke-miterlimit:10;\" d=\"M 508.03125 270 L 508.03125 270 \"/>\n",
       "<path style=\"fill:none;stroke-width:1;stroke-linecap:butt;stroke-linejoin:miter;stroke:rgb(0%,0%,0%);stroke-opacity:1;stroke-miterlimit:10;\" d=\"M 373.882812 518.933594 L 373.882812 518.933594 \"/>\n",
       "<path style=\"fill-rule:nonzero;fill:rgb(100%,0%,0%);fill-opacity:1;stroke-width:1;stroke-linecap:butt;stroke-linejoin:miter;stroke:rgb(0%,0%,0%);stroke-opacity:1;stroke-miterlimit:10;\" d=\"M 347.238281 256.371094 C 347.238281 257.039062 346.238281 257.039062 346.238281 256.371094 C 346.238281 255.703125 347.238281 255.703125 347.238281 256.371094 \"/>\n",
       "<path style=\"fill:none;stroke-width:1;stroke-linecap:butt;stroke-linejoin:miter;stroke:rgb(0%,0%,0%);stroke-opacity:1;stroke-miterlimit:10;\" d=\"M 161.976562 418.746094 L 161.976562 418.746094 \"/>\n",
       "<path style=\"fill:none;stroke-width:1;stroke-linecap:butt;stroke-linejoin:miter;stroke:rgb(0%,0%,0%);stroke-opacity:1;stroke-miterlimit:10;\" d=\"M 20 294.230469 L 20 294.230469 \"/>\n",
       "<path style=\"fill:none;stroke-width:1;stroke-linecap:butt;stroke-linejoin:miter;stroke:rgb(0%,0%,0%);stroke-opacity:1;stroke-miterlimit:10;\" d=\"M 433.167969 319.542969 L 433.167969 319.542969 \"/>\n",
       "<path style=\"fill:none;stroke-width:1;stroke-linecap:butt;stroke-linejoin:miter;stroke:rgb(0%,0%,0%);stroke-opacity:1;stroke-miterlimit:10;\" d=\"M 30.671875 377.128906 L 30.671875 377.128906 \"/>\n",
       "<path style=\"fill-rule:nonzero;fill:rgb(100%,0%,0%);fill-opacity:1;stroke-width:1;stroke-linecap:butt;stroke-linejoin:miter;stroke:rgb(0%,0%,0%);stroke-opacity:1;stroke-miterlimit:10;\" d=\"M 405.976562 428.496094 C 405.976562 429.160156 404.976562 429.160156 404.976562 428.496094 C 404.976562 427.828125 405.976562 427.828125 405.976562 428.496094 \"/>\n",
       "<path style=\"fill:none;stroke-width:1;stroke-linecap:butt;stroke-linejoin:miter;stroke:rgb(0%,0%,0%);stroke-opacity:1;stroke-miterlimit:10;\" d=\"M 117.871094 504.183594 L 117.871094 504.183594 \"/>\n",
       "<path style=\"fill:none;stroke-width:1;stroke-linecap:butt;stroke-linejoin:miter;stroke:rgb(0%,0%,0%);stroke-opacity:1;stroke-miterlimit:10;\" d=\"M 375.894531 34.203125 L 375.894531 34.203125 \"/>\n",
       "<path style=\"fill:none;stroke-width:1;stroke-linecap:butt;stroke-linejoin:miter;stroke:rgb(0%,0%,0%);stroke-opacity:1;stroke-miterlimit:10;\" d=\"M 441.585938 542.710938 L 441.585938 542.710938 \"/>\n",
       "<path style=\"fill:none;stroke-width:1;stroke-linecap:butt;stroke-linejoin:miter;stroke:rgb(0%,0%,0%);stroke-opacity:1;stroke-miterlimit:10;\" d=\"M 138.519531 77.4375 L 138.519531 77.4375 \"/>\n",
       "<path style=\"fill:none;stroke-width:1;stroke-linecap:butt;stroke-linejoin:miter;stroke:rgb(0%,0%,0%);stroke-opacity:1;stroke-miterlimit:10;\" d=\"M 197.125 139.597656 L 197.125 139.597656 \"/>\n",
       "<path style=\"fill:none;stroke-width:1;stroke-linecap:butt;stroke-linejoin:miter;stroke:rgb(0%,0%,0%);stroke-opacity:1;stroke-miterlimit:10;\" d=\"M 293.160156 488.734375 L 293.160156 488.734375 \"/>\n",
       "<path style=\"fill:none;stroke-width:1;stroke-linecap:butt;stroke-linejoin:miter;stroke:rgb(0%,0%,0%);stroke-opacity:1;stroke-miterlimit:10;\" d=\"M 124.046875 187.109375 L 124.046875 187.109375 \"/>\n",
       "<path style=\"fill:none;stroke-width:1;stroke-linecap:butt;stroke-linejoin:miter;stroke:rgb(0%,0%,0%);stroke-opacity:1;stroke-miterlimit:10;\" d=\"M 93.082031 271.027344 L 93.082031 271.027344 \"/>\n",
       "<path style=\"fill:none;stroke-width:1;stroke-linecap:butt;stroke-linejoin:miter;stroke:rgb(0%,0%,0%);stroke-opacity:1;stroke-miterlimit:10;\" d=\"M 36.730469 206.882812 L 36.730469 206.882812 \"/>\n",
       "<path style=\"fill-rule:nonzero;fill:rgb(100%,0%,0%);fill-opacity:1;stroke-width:1;stroke-linecap:butt;stroke-linejoin:miter;stroke:rgb(0%,0%,0%);stroke-opacity:1;stroke-miterlimit:10;\" d=\"M 496.058594 475.921875 C 496.058594 476.585938 495.058594 476.585938 495.058594 475.921875 C 495.058594 475.253906 496.058594 475.253906 496.058594 475.921875 \"/>\n",
       "<path style=\"fill:none;stroke-width:1;stroke-linecap:butt;stroke-linejoin:miter;stroke:rgb(0%,0%,0%);stroke-opacity:1;stroke-miterlimit:10;\" d=\"M 256.675781 569.761719 L 256.675781 569.761719 \"/>\n",
       "<path style=\"fill:none;stroke-width:1;stroke-linecap:butt;stroke-linejoin:miter;stroke:rgb(0%,0%,0%);stroke-opacity:1;stroke-miterlimit:10;\" d=\"M 212.335938 478.78125 L 212.335938 478.78125 \"/>\n",
       "<path style=\"fill:none;stroke-width:1;stroke-linecap:butt;stroke-linejoin:miter;stroke:rgb(0%,0%,0%);stroke-opacity:1;stroke-miterlimit:10;\" d=\"M 105.28125 359.578125 L 105.28125 359.578125 \"/>\n",
       "<path style=\"fill:none;stroke-width:1;stroke-linecap:butt;stroke-linejoin:miter;stroke:rgb(0%,0%,0%);stroke-opacity:1;stroke-miterlimit:10;\" d=\"M 498.410156 368.136719 L 498.410156 368.136719 \"/>\n",
       "<path style=\"fill:none;stroke-width:1;stroke-linecap:butt;stroke-linejoin:miter;stroke:rgb(0%,0%,0%);stroke-opacity:1;stroke-miterlimit:10;\" d=\"M 76.703125 128.5 L 76.703125 128.5 \"/>\n",
       "<path style=\"fill:none;stroke-width:1;stroke-linecap:butt;stroke-linejoin:miter;stroke:rgb(0%,0%,0%);stroke-opacity:1;stroke-miterlimit:10;\" d=\"M 269.757812 394.710938 L 269.757812 394.710938 \"/>\n",
       "</g>\n",
       "</svg>\n"
      ],
      "text/plain": [
       "<igraph.drawing.cairo.plot.CairoPlot at 0x7ff0743e47f0>"
      ]
     },
     "execution_count": 7,
     "metadata": {
      "image/svg+xml": {
       "isolated": true
      }
     },
     "output_type": "execute_result"
    }
   ],
   "source": [
    "#examine different time points with Forman-Ricci curvature plots, fourth slice\n",
    "ig.plot(nets[4],vertex_size=np.array(vcurv_t[4])*-0.5)"
   ]
  },
  {
   "cell_type": "code",
   "execution_count": 8,
   "id": "56630e53",
   "metadata": {
    "scrolled": true
   },
   "outputs": [
    {
     "data": {
      "image/svg+xml": [
       "<?xml version=\"1.0\" encoding=\"UTF-8\"?>\n",
       "<svg xmlns=\"http://www.w3.org/2000/svg\" xmlns:xlink=\"http://www.w3.org/1999/xlink\" width=\"600pt\" height=\"600pt\" viewBox=\"0 0 600 600\" version=\"1.1\">\n",
       "<g id=\"surface8\">\n",
       "<rect x=\"0\" y=\"0\" width=\"600\" height=\"600\" style=\"fill:rgb(100%,100%,100%);fill-opacity:1;stroke:none;\"/>\n",
       "<path style=\"fill:none;stroke-width:1;stroke-linecap:butt;stroke-linejoin:miter;stroke:rgb(26.666667%,26.666667%,26.666667%);stroke-opacity:1;stroke-miterlimit:10;\" d=\"M 386.273438 362.144531 C 376.679688 360.980469 363.265625 369.683594 366.175781 373.71875 \"/>\n",
       "<path style=\" stroke:none;fill-rule:nonzero;fill:rgb(26.666667%,26.666667%,26.666667%);fill-opacity:1;\" d=\"M 374.523438 385.289062 L 362.417969 376.433594 L 369.9375 371.007812 L 374.523438 385.289062 \"/>\n",
       "<path style=\"fill:none;stroke-width:1;stroke-linecap:butt;stroke-linejoin:miter;stroke:rgb(26.666667%,26.666667%,26.666667%);stroke-opacity:1;stroke-miterlimit:10;\" d=\"M 386.273438 362.144531 C 378.027344 359.066406 366.871094 360.550781 366.011719 368.105469 \"/>\n",
       "<path style=\" stroke:none;fill-rule:nonzero;fill:rgb(26.666667%,26.666667%,26.666667%);fill-opacity:1;\" d=\"M 364.394531 382.28125 L 361.40625 367.582031 L 370.617188 368.628906 L 364.394531 382.28125 \"/>\n",
       "<path style=\"fill:none;stroke-width:1;stroke-linecap:butt;stroke-linejoin:miter;stroke:rgb(26.666667%,26.666667%,26.666667%);stroke-opacity:1;stroke-miterlimit:10;\" d=\"M 386.273438 362.144531 C 373.433594 371.609375 368.089844 397.960938 375.246094 398.804688 \"/>\n",
       "<path style=\" stroke:none;fill-rule:nonzero;fill:rgb(26.666667%,26.666667%,26.666667%);fill-opacity:1;\" d=\"M 389.414062 400.476562 L 374.703125 403.40625 L 375.789062 394.203125 L 389.414062 400.476562 \"/>\n",
       "<path style=\"fill:none;stroke-width:1;stroke-linecap:butt;stroke-linejoin:miter;stroke:rgb(26.666667%,26.666667%,26.666667%);stroke-opacity:1;stroke-miterlimit:10;\" d=\"M 369.511719 437.722656 C 373.539062 439.925781 379.824219 439.828125 380.414062 436.15625 \"/>\n",
       "<path style=\" stroke:none;fill-rule:nonzero;fill:rgb(26.666667%,26.666667%,26.666667%);fill-opacity:1;\" d=\"M 382.671875 422.070312 L 384.992188 436.890625 L 375.835938 435.421875 L 382.671875 422.070312 \"/>\n",
       "<path style=\"fill:none;stroke-width:1;stroke-linecap:butt;stroke-linejoin:miter;stroke:rgb(26.666667%,26.666667%,26.666667%);stroke-opacity:1;stroke-miterlimit:10;\" d=\"M 369.511719 437.722656 C 371.238281 436.789062 372.199219 433.5625 371.484375 433.441406 \"/>\n",
       "<path style=\" stroke:none;fill-rule:nonzero;fill:rgb(26.666667%,26.666667%,26.666667%);fill-opacity:1;\" d=\"M 385.550781 435.808594 L 370.714844 438.015625 L 372.25 428.871094 L 385.550781 435.808594 \"/>\n",
       "<path style=\"fill:none;stroke-width:1;stroke-linecap:butt;stroke-linejoin:miter;stroke:rgb(26.666667%,26.666667%,26.666667%);stroke-opacity:1;stroke-miterlimit:10;\" d=\"M 369.511719 437.722656 C 387.359375 433.183594 397.34375 403.316406 397.246094 403.3125 \"/>\n",
       "<path style=\" stroke:none;fill-rule:nonzero;fill:rgb(26.666667%,26.666667%,26.666667%);fill-opacity:1;\" d=\"M 382.992188 402.738281 L 397.429688 398.679688 L 397.058594 407.941406 L 382.992188 402.738281 \"/>\n",
       "<path style=\"fill:none;stroke-width:1;stroke-linecap:butt;stroke-linejoin:miter;stroke:rgb(26.666667%,26.666667%,26.666667%);stroke-opacity:1;stroke-miterlimit:10;\" d=\"M 369.511719 437.722656 C 379.285156 443.820312 393.347656 444.921875 397.058594 435.355469 \"/>\n",
       "<path style=\" stroke:none;fill-rule:nonzero;fill:rgb(26.666667%,26.666667%,26.666667%);fill-opacity:1;\" d=\"M 402.214844 422.054688 L 401.378906 437.03125 L 392.734375 433.679688 L 402.214844 422.054688 \"/>\n",
       "<path style=\"fill:none;stroke-width:1;stroke-linecap:butt;stroke-linejoin:miter;stroke:rgb(26.666667%,26.666667%,26.666667%);stroke-opacity:1;stroke-miterlimit:10;\" d=\"M 288.585938 57.824219 C 292.417969 44.253906 284.308594 23.207031 276.402344 26.25 \"/>\n",
       "<path style=\" stroke:none;fill-rule:nonzero;fill:rgb(26.666667%,26.666667%,26.666667%);fill-opacity:1;\" d=\"M 289.714844 21.125 L 278.066406 30.574219 L 274.734375 21.921875 L 289.714844 21.125 \"/>\n",
       "<path style=\"fill:none;stroke-width:1;stroke-linecap:butt;stroke-linejoin:miter;stroke:rgb(26.666667%,26.666667%,26.666667%);stroke-opacity:1;stroke-miterlimit:10;\" d=\"M 288.585938 57.824219 C 277.472656 39.109375 261.273438 32.09375 240.300781 37.894531 \"/>\n",
       "<path style=\" stroke:none;fill-rule:nonzero;fill:rgb(26.666667%,26.666667%,26.666667%);fill-opacity:1;\" d=\"M 254.050781 34.09375 L 241.535156 42.363281 L 239.066406 33.425781 L 254.050781 34.09375 \"/>\n",
       "<path style=\"fill:none;stroke-width:1;stroke-linecap:butt;stroke-linejoin:miter;stroke:rgb(26.666667%,26.666667%,26.666667%);stroke-opacity:1;stroke-miterlimit:10;\" d=\"M 224.050781 246.140625 C 216.222656 240.027344 208.914062 241.066406 200.21875 245.675781 \"/>\n",
       "<path style=\" stroke:none;fill-rule:nonzero;fill:rgb(26.666667%,26.666667%,26.666667%);fill-opacity:1;\" d=\"M 187.617188 252.359375 L 198.046875 241.582031 L 202.390625 249.773438 L 187.617188 252.359375 \"/>\n",
       "<path style=\"fill:none;stroke-width:1;stroke-linecap:butt;stroke-linejoin:miter;stroke:rgb(26.666667%,26.666667%,26.666667%);stroke-opacity:1;stroke-miterlimit:10;\" d=\"M 224.050781 246.140625 C 226.6875 233.242188 221.242188 216.230469 210.539062 217.574219 \"/>\n",
       "<path style=\" stroke:none;fill-rule:nonzero;fill:rgb(26.666667%,26.666667%,26.666667%);fill-opacity:1;\" d=\"M 196.382812 219.351562 L 209.960938 212.976562 L 211.113281 222.175781 L 196.382812 219.351562 \"/>\n",
       "<path style=\"fill:none;stroke-width:1;stroke-linecap:butt;stroke-linejoin:miter;stroke:rgb(26.666667%,26.666667%,26.666667%);stroke-opacity:1;stroke-miterlimit:10;\" d=\"M 116.957031 360.175781 C 132.507812 378.609375 150.28125 377.675781 173.359375 373.175781 \"/>\n",
       "<path style=\" stroke:none;fill-rule:nonzero;fill:rgb(26.666667%,26.666667%,26.666667%);fill-opacity:1;\" d=\"M 159.359375 375.90625 L 172.472656 368.625 L 174.246094 377.726562 L 159.359375 375.90625 \"/>\n",
       "<path style=\"fill:none;stroke-width:1;stroke-linecap:butt;stroke-linejoin:miter;stroke:rgb(26.666667%,26.666667%,26.666667%);stroke-opacity:1;stroke-miterlimit:10;\" d=\"M 228.613281 554.789062 C 244.175781 545.121094 247.613281 513.496094 244.570312 513.816406 \"/>\n",
       "<path style=\" stroke:none;fill-rule:nonzero;fill:rgb(26.666667%,26.666667%,26.666667%);fill-opacity:1;\" d=\"M 230.382812 515.300781 L 244.085938 509.207031 L 245.050781 518.425781 L 230.382812 515.300781 \"/>\n",
       "<path style=\"fill:none;stroke-width:1;stroke-linecap:butt;stroke-linejoin:miter;stroke:rgb(26.666667%,26.666667%,26.666667%);stroke-opacity:1;stroke-miterlimit:10;\" d=\"M 228.613281 554.789062 C 250.773438 559.492188 265.574219 532.984375 277.933594 531.910156 \"/>\n",
       "<path style=\" stroke:none;fill-rule:nonzero;fill:rgb(26.666667%,26.666667%,26.666667%);fill-opacity:1;\" d=\"M 263.722656 533.144531 L 277.535156 527.289062 L 278.335938 536.527344 L 263.722656 533.144531 \"/>\n",
       "<path style=\"fill:none;stroke-width:1;stroke-linecap:butt;stroke-linejoin:miter;stroke:rgb(26.666667%,26.666667%,26.666667%);stroke-opacity:1;stroke-miterlimit:10;\" d=\"M 522.367188 292.890625 C 518.792969 306.464844 524.429688 325.777344 535.054688 324.097656 \"/>\n",
       "<path style=\" stroke:none;fill-rule:nonzero;fill:rgb(26.666667%,26.666667%,26.666667%);fill-opacity:1;\" d=\"M 549.148438 321.875 L 535.777344 328.675781 L 534.332031 319.519531 L 549.148438 321.875 \"/>\n",
       "<path style=\"fill:none;stroke-width:1;stroke-linecap:butt;stroke-linejoin:miter;stroke:rgb(26.666667%,26.666667%,26.666667%);stroke-opacity:1;stroke-miterlimit:10;\" d=\"M 147.769531 229.714844 C 154.175781 238.175781 171.667969 235.625 172.246094 236.734375 \"/>\n",
       "<path style=\" stroke:none;fill-rule:nonzero;fill:rgb(26.666667%,26.666667%,26.666667%);fill-opacity:1;\" d=\"M 178.863281 249.371094 L 168.140625 238.882812 L 176.355469 234.582031 L 178.863281 249.371094 \"/>\n",
       "<path style=\"fill:none;stroke-width:1;stroke-linecap:butt;stroke-linejoin:miter;stroke:rgb(26.666667%,26.666667%,26.666667%);stroke-opacity:1;stroke-miterlimit:10;\" d=\"M 147.769531 229.714844 C 156.292969 239.898438 172.707031 246.296875 178.796875 236.992188 \"/>\n",
       "<path style=\" stroke:none;fill-rule:nonzero;fill:rgb(26.666667%,26.666667%,26.666667%);fill-opacity:1;\" d=\"M 186.609375 225.058594 L 182.675781 239.53125 L 174.917969 234.457031 L 186.609375 225.058594 \"/>\n",
       "<path style=\"fill:none;stroke-width:1;stroke-linecap:butt;stroke-linejoin:miter;stroke:rgb(26.666667%,26.666667%,26.666667%);stroke-opacity:1;stroke-miterlimit:10;\" d=\"M 208.066406 115.328125 C 195.929688 99.273438 180.242188 94.308594 161.644531 101.984375 \"/>\n",
       "<path style=\" stroke:none;fill-rule:nonzero;fill:rgb(26.666667%,26.666667%,26.666667%);fill-opacity:1;\" d=\"M 174.832031 96.542969 L 163.410156 106.269531 L 159.875 97.699219 L 174.832031 96.542969 \"/>\n",
       "<path style=\"fill:none;stroke-width:1;stroke-linecap:butt;stroke-linejoin:miter;stroke:rgb(26.666667%,26.666667%,26.666667%);stroke-opacity:1;stroke-miterlimit:10;\" d=\"M 551.136719 321.558594 C 542.777344 302.582031 527.429688 291.414062 507.757812 297.160156 \"/>\n",
       "<path style=\" stroke:none;fill-rule:nonzero;fill:rgb(26.666667%,26.666667%,26.666667%);fill-opacity:1;\" d=\"M 521.449219 293.160156 L 509.054688 301.609375 L 506.457031 292.710938 L 521.449219 293.160156 \"/>\n",
       "<path style=\"fill:none;stroke-width:1;stroke-linecap:butt;stroke-linejoin:miter;stroke:rgb(26.666667%,26.666667%,26.666667%);stroke-opacity:1;stroke-miterlimit:10;\" d=\"M 551.136719 321.558594 C 544.578125 335.042969 548.3125 358.140625 557.957031 356.894531 \"/>\n",
       "<path style=\" stroke:none;fill-rule:nonzero;fill:rgb(26.666667%,26.666667%,26.666667%);fill-opacity:1;\" d=\"M 572.105469 355.070312 L 558.550781 361.492188 L 557.363281 352.300781 L 572.105469 355.070312 \"/>\n",
       "<path style=\"fill:none;stroke-width:1;stroke-linecap:butt;stroke-linejoin:miter;stroke:rgb(26.666667%,26.666667%,26.666667%);stroke-opacity:1;stroke-miterlimit:10;\" d=\"M 386.015625 401.226562 C 397.480469 398.488281 409.664062 384.890625 404.078125 379.460938 \"/>\n",
       "<path style=\" stroke:none;fill-rule:nonzero;fill:rgb(26.666667%,26.666667%,26.666667%);fill-opacity:1;\" d=\"M 393.851562 369.515625 L 407.3125 376.136719 L 400.847656 382.785156 L 393.851562 369.515625 \"/>\n",
       "<path style=\"fill:none;stroke-width:1;stroke-linecap:butt;stroke-linejoin:miter;stroke:rgb(26.666667%,26.666667%,26.666667%);stroke-opacity:1;stroke-miterlimit:10;\" d=\"M 386.015625 401.226562 C 381.417969 402.496094 380.5 406.007812 379.019531 410.285156 \"/>\n",
       "<path style=\" stroke:none;fill-rule:nonzero;fill:rgb(26.666667%,26.666667%,26.666667%);fill-opacity:1;\" d=\"M 374.347656 423.765625 L 374.636719 408.769531 L 383.398438 411.800781 L 374.347656 423.765625 \"/>\n",
       "<path style=\"fill:none;stroke-width:1;stroke-linecap:butt;stroke-linejoin:miter;stroke:rgb(26.666667%,26.666667%,26.666667%);stroke-opacity:1;stroke-miterlimit:10;\" d=\"M 386.015625 401.226562 C 379.335938 405.332031 374.195312 414.320312 379.101562 418.734375 \"/>\n",
       "<path style=\" stroke:none;fill-rule:nonzero;fill:rgb(26.666667%,26.666667%,26.666667%);fill-opacity:1;\" d=\"M 389.703125 428.277344 L 376 422.179688 L 382.203125 415.289062 L 389.703125 428.277344 \"/>\n",
       "<path style=\"fill:none;stroke-width:1;stroke-linecap:butt;stroke-linejoin:miter;stroke:rgb(26.666667%,26.666667%,26.666667%);stroke-opacity:1;stroke-miterlimit:10;\" d=\"M 386.015625 401.226562 C 392.605469 396.773438 390.609375 384.210938 392.253906 383.191406 \"/>\n",
       "<path style=\" stroke:none;fill-rule:nonzero;fill:rgb(26.666667%,26.666667%,26.666667%);fill-opacity:1;\" d=\"M 380.136719 390.722656 L 389.804688 379.253906 L 394.699219 387.125 L 380.136719 390.722656 \"/>\n",
       "<path style=\"fill:none;stroke-width:1;stroke-linecap:butt;stroke-linejoin:miter;stroke:rgb(26.666667%,26.666667%,26.666667%);stroke-opacity:1;stroke-miterlimit:10;\" d=\"M 386.015625 401.226562 C 381.023438 399.863281 377.519531 405.542969 374.464844 405.796875 \"/>\n",
       "<path style=\" stroke:none;fill-rule:nonzero;fill:rgb(26.666667%,26.666667%,26.666667%);fill-opacity:1;\" d=\"M 388.683594 404.613281 L 374.851562 410.414062 L 374.082031 401.175781 L 388.683594 404.613281 \"/>\n",
       "<path style=\"fill:none;stroke-width:1;stroke-linecap:butt;stroke-linejoin:miter;stroke:rgb(26.666667%,26.666667%,26.666667%);stroke-opacity:1;stroke-miterlimit:10;\" d=\"M 198.4375 389.675781 C 194.285156 377.726562 185.417969 369.96875 173.257812 372.710938 \"/>\n",
       "<path style=\" stroke:none;fill-rule:nonzero;fill:rgb(26.666667%,26.666667%,26.666667%);fill-opacity:1;\" d=\"M 159.339844 375.847656 L 172.238281 368.1875 L 174.277344 377.230469 L 159.339844 375.847656 \"/>\n",
       "<path style=\"fill:none;stroke-width:1;stroke-linecap:butt;stroke-linejoin:miter;stroke:rgb(26.666667%,26.666667%,26.666667%);stroke-opacity:1;stroke-miterlimit:10;\" d=\"M 157.382812 376.289062 C 153.691406 363.484375 144.601562 354.320312 131.855469 357.019531 \"/>\n",
       "<path style=\" stroke:none;fill-rule:nonzero;fill:rgb(26.666667%,26.666667%,26.666667%);fill-opacity:1;\" d=\"M 117.898438 359.976562 L 130.894531 352.484375 L 132.816406 361.554688 L 117.898438 359.976562 \"/>\n",
       "<path style=\"fill:none;stroke-width:1;stroke-linecap:butt;stroke-linejoin:miter;stroke:rgb(26.666667%,26.666667%,26.666667%);stroke-opacity:1;stroke-miterlimit:10;\" d=\"M 157.382812 376.289062 C 173.363281 393.949219 190.960938 390.914062 213.492188 387.183594 \"/>\n",
       "<path style=\" stroke:none;fill-rule:nonzero;fill:rgb(26.666667%,26.666667%,26.666667%);fill-opacity:1;\" d=\"M 199.417969 389.515625 L 212.734375 382.609375 L 214.25 391.753906 L 199.417969 389.515625 \"/>\n",
       "<path style=\"fill:none;stroke-width:1;stroke-linecap:butt;stroke-linejoin:miter;stroke:rgb(26.666667%,26.666667%,26.666667%);stroke-opacity:1;stroke-miterlimit:10;\" d=\"M 441.742188 213.3125 C 425.433594 193.625 406.566406 193.085938 382.078125 198.996094 \"/>\n",
       "<path style=\" stroke:none;fill-rule:nonzero;fill:rgb(26.666667%,26.666667%,26.666667%);fill-opacity:1;\" d=\"M 395.945312 195.648438 L 383.164062 203.503906 L 380.988281 194.492188 L 395.945312 195.648438 \"/>\n",
       "<path style=\"fill:none;stroke-width:1;stroke-linecap:butt;stroke-linejoin:miter;stroke:rgb(26.666667%,26.666667%,26.666667%);stroke-opacity:1;stroke-miterlimit:10;\" d=\"M 400.941406 438.394531 C 402.996094 433.113281 399.742188 424.199219 397.28125 425.300781 \"/>\n",
       "<path style=\" stroke:none;fill-rule:nonzero;fill:rgb(26.666667%,26.666667%,26.666667%);fill-opacity:1;\" d=\"M 384.261719 431.125 L 395.390625 421.070312 L 399.175781 429.53125 L 384.261719 431.125 \"/>\n",
       "<path style=\"fill:none;stroke-width:1;stroke-linecap:butt;stroke-linejoin:miter;stroke:rgb(26.666667%,26.666667%,26.666667%);stroke-opacity:1;stroke-miterlimit:10;\" d=\"M 400.941406 438.394531 C 415.640625 432.382812 424.144531 406.15625 420.507812 405.683594 \"/>\n",
       "<path style=\" stroke:none;fill-rule:nonzero;fill:rgb(26.666667%,26.666667%,26.666667%);fill-opacity:1;\" d=\"M 406.359375 403.855469 L 421.101562 401.089844 L 419.914062 410.28125 L 406.359375 403.855469 \"/>\n",
       "<path style=\"fill:none;stroke-width:1;stroke-linecap:butt;stroke-linejoin:miter;stroke:rgb(26.666667%,26.666667%,26.666667%);stroke-opacity:1;stroke-miterlimit:10;\" d=\"M 400.941406 438.394531 C 409.214844 423.753906 406.101562 397.28125 395.738281 398.371094 \"/>\n",
       "<path style=\" stroke:none;fill-rule:nonzero;fill:rgb(26.666667%,26.666667%,26.666667%);fill-opacity:1;\" d=\"M 381.550781 399.863281 L 395.253906 393.761719 L 396.222656 402.980469 L 381.550781 399.863281 \"/>\n",
       "<path style=\"fill:none;stroke-width:1;stroke-linecap:butt;stroke-linejoin:miter;stroke:rgb(26.666667%,26.666667%,26.666667%);stroke-opacity:1;stroke-miterlimit:10;\" d=\"M 400.941406 438.394531 C 405.640625 441.464844 414.792969 440.539062 414.382812 437.527344 \"/>\n",
       "<path style=\" stroke:none;fill-rule:nonzero;fill:rgb(26.666667%,26.666667%,26.666667%);fill-opacity:1;\" d=\"M 412.457031 423.394531 L 418.976562 436.902344 L 409.789062 438.15625 L 412.457031 423.394531 \"/>\n",
       "<path style=\"fill:none;stroke-width:1;stroke-linecap:butt;stroke-linejoin:miter;stroke:rgb(26.666667%,26.666667%,26.666667%);stroke-opacity:1;stroke-miterlimit:10;\" d=\"M 292.640625 20 C 275.730469 27.730469 270.082031 59.285156 271.304688 59.1875 \"/>\n",
       "<path style=\" stroke:none;fill-rule:nonzero;fill:rgb(26.666667%,26.666667%,26.666667%);fill-opacity:1;\" d=\"M 285.523438 58.066406 L 271.667969 63.808594 L 270.9375 54.566406 L 285.523438 58.066406 \"/>\n",
       "<path style=\"fill:none;stroke-width:1;stroke-linecap:butt;stroke-linejoin:miter;stroke:rgb(26.666667%,26.666667%,26.666667%);stroke-opacity:1;stroke-miterlimit:10;\" d=\"M 292.640625 20 C 271.367188 11.6875 255.132812 33.433594 239.828125 34.671875 \"/>\n",
       "<path style=\" stroke:none;fill-rule:nonzero;fill:rgb(26.666667%,26.666667%,26.666667%);fill-opacity:1;\" d=\"M 254.050781 33.519531 L 240.203125 39.292969 L 239.457031 30.054688 L 254.050781 33.519531 \"/>\n",
       "<path style=\"fill:none;stroke-width:1;stroke-linecap:butt;stroke-linejoin:miter;stroke:rgb(26.666667%,26.666667%,26.666667%);stroke-opacity:1;stroke-miterlimit:10;\" d=\"M 362.160156 401.898438 C 376.144531 404.214844 395 396.765625 392.339844 386.210938 \"/>\n",
       "<path style=\" stroke:none;fill-rule:nonzero;fill:rgb(26.666667%,26.666667%,26.666667%);fill-opacity:1;\" d=\"M 388.851562 372.375 L 396.832031 385.078125 L 387.84375 387.34375 L 388.851562 372.375 \"/>\n",
       "<path style=\"fill:none;stroke-width:1;stroke-linecap:butt;stroke-linejoin:miter;stroke:rgb(26.666667%,26.666667%,26.666667%);stroke-opacity:1;stroke-miterlimit:10;\" d=\"M 362.160156 401.898438 C 361.792969 404.867188 365.53125 406.621094 365.726562 408.132812 \"/>\n",
       "<path style=\" stroke:none;fill-rule:nonzero;fill:rgb(26.666667%,26.666667%,26.666667%);fill-opacity:1;\" d=\"M 367.539062 422.285156 L 361.128906 408.722656 L 370.324219 407.542969 L 367.539062 422.285156 \"/>\n",
       "<path style=\"fill:none;stroke-width:1;stroke-linecap:butt;stroke-linejoin:miter;stroke:rgb(26.666667%,26.666667%,26.666667%);stroke-opacity:1;stroke-miterlimit:10;\" d=\"M 362.160156 401.898438 C 358.707031 399.503906 355.421875 402.175781 352.078125 402.28125 \"/>\n",
       "<path style=\" stroke:none;fill-rule:nonzero;fill:rgb(26.666667%,26.666667%,26.666667%);fill-opacity:1;\" d=\"M 366.335938 401.839844 L 352.222656 406.914062 L 351.933594 397.648438 L 366.335938 401.839844 \"/>\n",
       "<path style=\"fill:none;stroke-width:1;stroke-linecap:butt;stroke-linejoin:miter;stroke:rgb(26.666667%,26.666667%,26.666667%);stroke-opacity:1;stroke-miterlimit:10;\" d=\"M 362.160156 401.898438 C 358.261719 414.101562 360.550781 427.910156 372.242188 430.945312 \"/>\n",
       "<path style=\" stroke:none;fill-rule:nonzero;fill:rgb(26.666667%,26.666667%,26.666667%);fill-opacity:1;\" d=\"M 386.050781 434.527344 L 371.078125 435.429688 L 373.40625 426.457031 L 386.050781 434.527344 \"/>\n",
       "<path style=\"fill:none;stroke-width:1;stroke-linecap:butt;stroke-linejoin:miter;stroke:rgb(26.666667%,26.666667%,26.666667%);stroke-opacity:1;stroke-miterlimit:10;\" d=\"M 362.160156 401.898438 C 363.578125 411.277344 371.238281 421.300781 378.386719 417.871094 \"/>\n",
       "<path style=\" stroke:none;fill-rule:nonzero;fill:rgb(26.666667%,26.666667%,26.666667%);fill-opacity:1;\" d=\"M 391.25 411.699219 L 380.390625 422.046875 L 376.382812 413.691406 L 391.25 411.699219 \"/>\n",
       "<path style=\"fill:none;stroke-width:1;stroke-linecap:butt;stroke-linejoin:miter;stroke:rgb(26.666667%,26.666667%,26.666667%);stroke-opacity:1;stroke-miterlimit:10;\" d=\"M 181.992188 255.339844 C 192.296875 267.433594 216.488281 273.484375 219.191406 263.714844 \"/>\n",
       "<path style=\" stroke:none;fill-rule:nonzero;fill:rgb(26.666667%,26.666667%,26.666667%);fill-opacity:1;\" d=\"M 222.992188 249.964844 L 223.660156 264.953125 L 214.722656 262.480469 L 222.992188 249.964844 \"/>\n",
       "<path style=\"fill:none;stroke-width:1;stroke-linecap:butt;stroke-linejoin:miter;stroke:rgb(26.666667%,26.666667%,26.666667%);stroke-opacity:1;stroke-miterlimit:10;\" d=\"M 181.992188 255.339844 C 183.71875 241.839844 177.234375 225.175781 165.867188 226.925781 \"/>\n",
       "<path style=\" stroke:none;fill-rule:nonzero;fill:rgb(26.666667%,26.666667%,26.666667%);fill-opacity:1;\" d=\"M 151.765625 229.101562 L 165.160156 222.34375 L 166.574219 231.507812 L 151.765625 229.101562 \"/>\n",
       "<path style=\"fill:none;stroke-width:1;stroke-linecap:butt;stroke-linejoin:miter;stroke:rgb(26.666667%,26.666667%,26.666667%);stroke-opacity:1;stroke-miterlimit:10;\" d=\"M 181.992188 255.339844 C 198.832031 252.128906 212.007812 225.46875 209.703125 224.921875 \"/>\n",
       "<path style=\" stroke:none;fill-rule:nonzero;fill:rgb(26.666667%,26.666667%,26.666667%);fill-opacity:1;\" d=\"M 195.824219 221.613281 L 210.777344 220.410156 L 208.628906 229.429688 L 195.824219 221.613281 \"/>\n",
       "<path style=\"fill:none;stroke-width:1;stroke-linecap:butt;stroke-linejoin:miter;stroke:rgb(26.666667%,26.666667%,26.666667%);stroke-opacity:1;stroke-miterlimit:10;\" d=\"M 127.355469 510.535156 C 131.429688 496.558594 125.699219 476.027344 115.050781 477.828125 \"/>\n",
       "<path style=\" stroke:none;fill-rule:nonzero;fill:rgb(26.666667%,26.666667%,26.666667%);fill-opacity:1;\" d=\"M 100.984375 480.207031 L 114.277344 473.257812 L 115.824219 482.398438 L 100.984375 480.207031 \"/>\n",
       "<path style=\"fill:none;stroke-width:1;stroke-linecap:butt;stroke-linejoin:miter;stroke:rgb(26.666667%,26.666667%,26.666667%);stroke-opacity:1;stroke-miterlimit:10;\" d=\"M 374.46875 160.882812 C 367.714844 174.738281 371.71875 198.605469 381.449219 197.214844 \"/>\n",
       "<path style=\" stroke:none;fill-rule:nonzero;fill:rgb(26.666667%,26.666667%,26.666667%);fill-opacity:1;\" d=\"M 395.574219 195.195312 L 382.105469 201.804688 L 380.796875 192.625 L 395.574219 195.195312 \"/>\n",
       "<path style=\"fill:none;stroke-width:1;stroke-linecap:butt;stroke-linejoin:miter;stroke:rgb(26.666667%,26.666667%,26.666667%);stroke-opacity:1;stroke-miterlimit:10;\" d=\"M 374.46875 160.882812 C 354.261719 164.105469 343.226562 196.113281 340.3125 196.164062 \"/>\n",
       "<path style=\" stroke:none;fill-rule:nonzero;fill:rgb(26.666667%,26.666667%,26.666667%);fill-opacity:1;\" d=\"M 354.574219 195.917969 L 340.390625 200.800781 L 340.230469 191.53125 L 354.574219 195.917969 \"/>\n",
       "<path style=\"fill:none;stroke-width:1;stroke-linecap:butt;stroke-linejoin:miter;stroke:rgb(26.666667%,26.666667%,26.666667%);stroke-opacity:1;stroke-miterlimit:10;\" d=\"M 189.800781 220.179688 C 188.730469 232.742188 194.003906 245.65625 205.835938 245.847656 \"/>\n",
       "<path style=\" stroke:none;fill-rule:nonzero;fill:rgb(26.666667%,26.666667%,26.666667%);fill-opacity:1;\" d=\"M 220.097656 246.078125 L 205.757812 250.480469 L 205.910156 241.210938 L 220.097656 246.078125 \"/>\n",
       "<path style=\"fill:none;stroke-width:1;stroke-linecap:butt;stroke-linejoin:miter;stroke:rgb(26.666667%,26.666667%,26.666667%);stroke-opacity:1;stroke-miterlimit:10;\" d=\"M 189.800781 220.179688 C 180.851562 214.238281 173.414062 217.042969 164.066406 221.664062 \"/>\n",
       "<path style=\" stroke:none;fill-rule:nonzero;fill:rgb(26.666667%,26.666667%,26.666667%);fill-opacity:1;\" d=\"M 151.277344 227.984375 L 162.015625 217.507812 L 166.121094 225.816406 L 151.277344 227.984375 \"/>\n",
       "<path style=\"fill:none;stroke-width:1;stroke-linecap:butt;stroke-linejoin:miter;stroke:rgb(26.666667%,26.666667%,26.666667%);stroke-opacity:1;stroke-miterlimit:10;\" d=\"M 189.800781 220.179688 C 185.921875 225.679688 191.535156 233.4375 190.277344 236.324219 \"/>\n",
       "<path style=\" stroke:none;fill-rule:nonzero;fill:rgb(26.666667%,26.666667%,26.666667%);fill-opacity:1;\" d=\"M 184.578125 249.402344 L 186.027344 234.472656 L 194.527344 238.175781 L 184.578125 249.402344 \"/>\n",
       "<path style=\"fill:none;stroke-width:1;stroke-linecap:butt;stroke-linejoin:miter;stroke:rgb(26.666667%,26.666667%,26.666667%);stroke-opacity:1;stroke-miterlimit:10;\" d=\"M 227.261719 515.628906 C 224.714844 531.199219 234.183594 552.863281 244.796875 549.191406 \"/>\n",
       "<path style=\" stroke:none;fill-rule:nonzero;fill:rgb(26.666667%,26.666667%,26.666667%);fill-opacity:1;\" d=\"M 231.316406 553.855469 L 243.28125 544.8125 L 246.3125 553.570312 L 231.316406 553.855469 \"/>\n",
       "<path style=\"fill:none;stroke-width:1;stroke-linecap:butt;stroke-linejoin:miter;stroke:rgb(26.666667%,26.666667%,26.666667%);stroke-opacity:1;stroke-miterlimit:10;\" d=\"M 227.261719 515.628906 C 240.554688 532.90625 256.632812 534.316406 277.667969 529.664062 \"/>\n",
       "<path style=\" stroke:none;fill-rule:nonzero;fill:rgb(26.666667%,26.666667%,26.666667%);fill-opacity:1;\" d=\"M 263.738281 532.746094 L 276.667969 525.140625 L 278.667969 534.191406 L 263.738281 532.746094 \"/>\n",
       "<path style=\"fill:none;stroke-width:1;stroke-linecap:butt;stroke-linejoin:miter;stroke:rgb(26.666667%,26.666667%,26.666667%);stroke-opacity:1;stroke-miterlimit:10;\" d=\"M 260.785156 533.398438 C 251.496094 534.878906 248.820312 548.445312 245.078125 549.621094 \"/>\n",
       "<path style=\" stroke:none;fill-rule:nonzero;fill:rgb(26.666667%,26.666667%,26.666667%);fill-opacity:1;\" d=\"M 231.46875 553.894531 L 243.6875 545.195312 L 246.464844 554.042969 L 231.46875 553.894531 \"/>\n",
       "<path style=\"fill:none;stroke-width:1;stroke-linecap:butt;stroke-linejoin:miter;stroke:rgb(26.666667%,26.666667%,26.666667%);stroke-opacity:1;stroke-miterlimit:10;\" d=\"M 260.785156 533.398438 C 260.527344 522.183594 253.996094 510.257812 244.136719 512.238281 \"/>\n",
       "<path style=\" stroke:none;fill-rule:nonzero;fill:rgb(26.666667%,26.666667%,26.666667%);fill-opacity:1;\" d=\"M 230.148438 515.046875 L 243.222656 507.695312 L 245.046875 516.785156 L 230.148438 515.046875 \"/>\n",
       "<path style=\"fill:none;stroke-width:1;stroke-linecap:butt;stroke-linejoin:miter;stroke:rgb(26.666667%,26.666667%,26.666667%);stroke-opacity:1;stroke-miterlimit:10;\" d=\"M 99.066406 480.53125 C 106.855469 500.0625 121.984375 511.886719 142.144531 506.816406 \"/>\n",
       "<path style=\" stroke:none;fill-rule:nonzero;fill:rgb(26.666667%,26.666667%,26.666667%);fill-opacity:1;\" d=\"M 128.3125 510.296875 L 141.015625 502.320312 L 143.277344 511.3125 L 128.3125 510.296875 \"/>\n",
       "<path style=\"fill:none;stroke-width:1;stroke-linecap:butt;stroke-linejoin:miter;stroke:rgb(26.666667%,26.666667%,26.666667%);stroke-opacity:1;stroke-miterlimit:10;\" d=\"M 99.066406 480.53125 C 101.816406 466.296875 95.261719 447.269531 83.84375 449.238281 \"/>\n",
       "<path style=\" stroke:none;fill-rule:nonzero;fill:rgb(26.666667%,26.666667%,26.666667%);fill-opacity:1;\" d=\"M 69.785156 451.660156 L 83.058594 444.667969 L 84.632812 453.804688 L 69.785156 451.660156 \"/>\n",
       "<path style=\"fill:none;stroke-width:1;stroke-linecap:butt;stroke-linejoin:miter;stroke:rgb(26.666667%,26.666667%,26.666667%);stroke-opacity:1;stroke-miterlimit:10;\" d=\"M 409.65625 402.867188 C 418.050781 391.789062 420.546875 372.867188 409.824219 369.511719 \"/>\n",
       "<path style=\" stroke:none;fill-rule:nonzero;fill:rgb(26.666667%,26.666667%,26.666667%);fill-opacity:1;\" d=\"M 396.207031 365.253906 L 411.207031 365.085938 L 408.441406 373.933594 L 396.207031 365.253906 \"/>\n",
       "<path style=\"fill:none;stroke-width:1;stroke-linecap:butt;stroke-linejoin:miter;stroke:rgb(26.666667%,26.666667%,26.666667%);stroke-opacity:1;stroke-miterlimit:10;\" d=\"M 409.65625 402.867188 C 399.328125 400.34375 392.109375 404.09375 386.195312 412.894531 \"/>\n",
       "<path style=\" stroke:none;fill-rule:nonzero;fill:rgb(26.666667%,26.666667%,26.666667%);fill-opacity:1;\" d=\"M 378.238281 424.734375 L 382.347656 410.308594 L 390.042969 415.480469 L 378.238281 424.734375 \"/>\n",
       "<path style=\"fill:none;stroke-width:1;stroke-linecap:butt;stroke-linejoin:miter;stroke:rgb(26.666667%,26.666667%,26.666667%);stroke-opacity:1;stroke-miterlimit:10;\" d=\"M 409.65625 402.867188 C 415.523438 401.855469 417.386719 393.019531 419.464844 392.472656 \"/>\n",
       "<path style=\" stroke:none;fill-rule:nonzero;fill:rgb(26.666667%,26.666667%,26.666667%);fill-opacity:1;\" d=\"M 405.664062 396.085938 L 418.292969 387.988281 L 420.640625 396.957031 L 405.664062 396.085938 \"/>\n",
       "<path style=\"fill:none;stroke-width:1;stroke-linecap:butt;stroke-linejoin:miter;stroke:rgb(26.666667%,26.666667%,26.666667%);stroke-opacity:1;stroke-miterlimit:10;\" d=\"M 409.65625 402.867188 C 403.453125 401.597656 395.0625 404.421875 395.917969 409.363281 \"/>\n",
       "<path style=\" stroke:none;fill-rule:nonzero;fill:rgb(26.666667%,26.666667%,26.666667%);fill-opacity:1;\" d=\"M 398.351562 423.417969 L 391.351562 410.152344 L 400.484375 408.570312 L 398.351562 423.417969 \"/>\n",
       "<path style=\"fill:none;stroke-width:1;stroke-linecap:butt;stroke-linejoin:miter;stroke:rgb(26.666667%,26.666667%,26.666667%);stroke-opacity:1;stroke-miterlimit:10;\" d=\"M 409.65625 402.867188 C 408.015625 393.023438 399.675781 382.542969 392.332031 386.332031 \"/>\n",
       "<path style=\" stroke:none;fill-rule:nonzero;fill:rgb(26.666667%,26.666667%,26.666667%);fill-opacity:1;\" d=\"M 379.65625 392.871094 L 390.207031 382.210938 L 394.460938 390.449219 L 379.65625 392.871094 \"/>\n",
       "<path style=\"fill:none;stroke-width:1;stroke-linecap:butt;stroke-linejoin:miter;stroke:rgb(26.666667%,26.666667%,26.666667%);stroke-opacity:1;stroke-miterlimit:10;\" d=\"M 573.09375 354.941406 C 567.691406 336.273438 553.167969 320.855469 535.835938 326.871094 \"/>\n",
       "<path style=\" stroke:none;fill-rule:nonzero;fill:rgb(26.666667%,26.666667%,26.666667%);fill-opacity:1;\" d=\"M 549.3125 322.191406 L 537.359375 331.25 L 534.316406 322.492188 L 549.3125 322.191406 \"/>\n",
       "<path style=\"fill:none;stroke-width:1;stroke-linecap:butt;stroke-linejoin:miter;stroke:rgb(26.666667%,26.666667%,26.666667%);stroke-opacity:1;stroke-miterlimit:10;\" d=\"M 175.296875 96.347656 C 175.972656 108.113281 182.878906 119.890625 193.53125 117.960938 \"/>\n",
       "<path style=\" stroke:none;fill-rule:nonzero;fill:rgb(26.666667%,26.666667%,26.666667%);fill-opacity:1;\" d=\"M 207.570312 115.417969 L 194.359375 122.523438 L 192.707031 113.402344 L 207.570312 115.417969 \"/>\n",
       "<path style=\"fill:none;stroke-width:1;stroke-linecap:butt;stroke-linejoin:miter;stroke:rgb(26.666667%,26.666667%,26.666667%);stroke-opacity:1;stroke-miterlimit:10;\" d=\"M 68.832031 451.824219 C 78.007812 471.605469 93.863281 481.824219 114.933594 476.589844 \"/>\n",
       "<path style=\" stroke:none;fill-rule:nonzero;fill:rgb(26.666667%,26.666667%,26.666667%);fill-opacity:1;\" d=\"M 101.085938 480.03125 L 113.816406 472.089844 L 116.050781 481.085938 L 101.085938 480.03125 \"/>\n",
       "<path style=\"fill:none;stroke-width:1;stroke-linecap:butt;stroke-linejoin:miter;stroke:rgb(26.666667%,26.666667%,26.666667%);stroke-opacity:1;stroke-miterlimit:10;\" d=\"M 401.082031 194.410156 C 403.953125 208.0625 413.113281 219.175781 426.253906 216.484375 \"/>\n",
       "<path style=\" stroke:none;fill-rule:nonzero;fill:rgb(26.666667%,26.666667%,26.666667%);fill-opacity:1;\" d=\"M 440.230469 213.621094 L 427.183594 221.027344 L 425.324219 211.945312 L 440.230469 213.621094 \"/>\n",
       "<path style=\"fill:none;stroke-width:1;stroke-linecap:butt;stroke-linejoin:miter;stroke:rgb(26.666667%,26.666667%,26.666667%);stroke-opacity:1;stroke-miterlimit:10;\" d=\"M 401.082031 194.410156 C 393.449219 174.472656 376.972656 159.953125 357.714844 167.121094 \"/>\n",
       "<path style=\" stroke:none;fill-rule:nonzero;fill:rgb(26.666667%,26.666667%,26.666667%);fill-opacity:1;\" d=\"M 371.082031 162.144531 L 359.332031 171.464844 L 356.097656 162.777344 L 371.082031 162.144531 \"/>\n",
       "<path style=\"fill:none;stroke-width:1;stroke-linecap:butt;stroke-linejoin:miter;stroke:rgb(26.666667%,26.666667%,26.666667%);stroke-opacity:1;stroke-miterlimit:10;\" d=\"M 401.082031 194.410156 C 380.167969 180.121094 360.9375 195.664062 340.347656 197.089844 \"/>\n",
       "<path style=\" stroke:none;fill-rule:nonzero;fill:rgb(26.666667%,26.666667%,26.666667%);fill-opacity:1;\" d=\"M 354.578125 196.105469 L 340.667969 201.714844 L 340.027344 192.46875 L 354.578125 196.105469 \"/>\n",
       "<path style=\"fill:none;stroke-width:1;stroke-linecap:butt;stroke-linejoin:miter;stroke:rgb(26.666667%,26.666667%,26.666667%);stroke-opacity:1;stroke-miterlimit:10;\" d=\"M 358.113281 195.859375 C 365.0625 186.675781 360.472656 167.203125 358.234375 168.214844 \"/>\n",
       "<path style=\" stroke:none;fill-rule:nonzero;fill:rgb(26.666667%,26.666667%,26.666667%);fill-opacity:1;\" d=\"M 371.234375 162.34375 L 360.140625 172.441406 L 356.324219 163.992188 L 371.234375 162.34375 \"/>\n",
       "<path style=\"fill:none;stroke-width:1;stroke-linecap:butt;stroke-linejoin:miter;stroke:rgb(26.666667%,26.666667%,26.666667%);stroke-opacity:1;stroke-miterlimit:10;\" d=\"M 358.113281 195.859375 C 365.085938 203.285156 372.59375 202.960938 382.199219 200.078125 \"/>\n",
       "<path style=\" stroke:none;fill-rule:nonzero;fill:rgb(26.666667%,26.666667%,26.666667%);fill-opacity:1;\" d=\"M 395.859375 195.976562 L 383.53125 204.519531 L 380.863281 195.640625 L 395.859375 195.976562 \"/>\n",
       "<path style=\"fill:none;stroke-width:1;stroke-linecap:butt;stroke-linejoin:miter;stroke:rgb(26.666667%,26.666667%,26.666667%);stroke-opacity:1;stroke-miterlimit:10;\" d=\"M 256.980469 33.28125 C 254.949219 46.105469 261.109375 62.675781 271.546875 60.832031 \"/>\n",
       "<path style=\" stroke:none;fill-rule:nonzero;fill:rgb(26.666667%,26.666667%,26.666667%);fill-opacity:1;\" d=\"M 285.597656 58.351562 L 272.355469 65.394531 L 270.742188 56.265625 L 285.597656 58.351562 \"/>\n",
       "<path style=\"fill:none;stroke-width:1;stroke-linecap:butt;stroke-linejoin:miter;stroke:rgb(26.666667%,26.666667%,26.666667%);stroke-opacity:1;stroke-miterlimit:10;\" d=\"M 256.980469 33.28125 C 265.371094 35.324219 269.992188 26.980469 276.03125 25.117188 \"/>\n",
       "<path style=\" stroke:none;fill-rule:nonzero;fill:rgb(26.666667%,26.666667%,26.666667%);fill-opacity:1;\" d=\"M 289.664062 20.917969 L 277.394531 29.546875 L 274.667969 20.6875 L 289.664062 20.917969 \"/>\n",
       "<path style=\"fill-rule:nonzero;fill:rgb(100%,0%,0%);fill-opacity:1;stroke-width:1;stroke-linecap:butt;stroke-linejoin:miter;stroke:rgb(0%,0%,0%);stroke-opacity:1;stroke-miterlimit:10;\" d=\"M 396.773438 362.144531 C 396.773438 367.945312 392.074219 372.644531 386.273438 372.644531 C 380.476562 372.644531 375.773438 367.945312 375.773438 362.144531 C 375.773438 356.347656 380.476562 351.644531 386.273438 351.644531 C 392.074219 351.644531 396.773438 356.347656 396.773438 362.144531 \"/>\n",
       "<path style=\"fill:none;stroke-width:1;stroke-linecap:butt;stroke-linejoin:miter;stroke:rgb(0%,0%,0%);stroke-opacity:1;stroke-miterlimit:10;\" d=\"M 580 226.453125 L 580 226.453125 \"/>\n",
       "<path style=\"fill-rule:nonzero;fill:rgb(100%,0%,0%);fill-opacity:1;stroke-width:1;stroke-linecap:butt;stroke-linejoin:miter;stroke:rgb(0%,0%,0%);stroke-opacity:1;stroke-miterlimit:10;\" d=\"M 385.011719 437.722656 C 385.011719 446.28125 378.074219 453.222656 369.511719 453.222656 C 360.953125 453.222656 354.011719 446.28125 354.011719 437.722656 C 354.011719 429.160156 360.953125 422.222656 369.511719 422.222656 C 378.074219 422.222656 385.011719 429.160156 385.011719 437.722656 \"/>\n",
       "<path style=\"fill-rule:nonzero;fill:rgb(100%,0%,0%);fill-opacity:1;stroke-width:1;stroke-linecap:butt;stroke-linejoin:miter;stroke:rgb(0%,0%,0%);stroke-opacity:1;stroke-miterlimit:10;\" d=\"M 291.585938 57.824219 C 291.585938 61.824219 285.585938 61.824219 285.585938 57.824219 C 285.585938 53.824219 291.585938 53.824219 291.585938 57.824219 \"/>\n",
       "<path style=\"fill-rule:nonzero;fill:rgb(100%,0%,0%);fill-opacity:1;stroke-width:1;stroke-linecap:butt;stroke-linejoin:miter;stroke:rgb(0%,0%,0%);stroke-opacity:1;stroke-miterlimit:10;\" d=\"M 228.050781 246.140625 C 228.050781 251.476562 220.050781 251.476562 220.050781 246.140625 C 220.050781 240.808594 228.050781 240.808594 228.050781 246.140625 \"/>\n",
       "<path style=\"fill-rule:nonzero;fill:rgb(100%,0%,0%);fill-opacity:1;stroke-width:1;stroke-linecap:butt;stroke-linejoin:miter;stroke:rgb(0%,0%,0%);stroke-opacity:1;stroke-miterlimit:10;\" d=\"M 117.957031 360.175781 C 117.957031 361.507812 115.957031 361.507812 115.957031 360.175781 C 115.957031 358.839844 117.957031 358.839844 117.957031 360.175781 \"/>\n",
       "<path style=\"fill-rule:nonzero;fill:rgb(100%,0%,0%);fill-opacity:1;stroke-width:1;stroke-linecap:butt;stroke-linejoin:miter;stroke:rgb(0%,0%,0%);stroke-opacity:1;stroke-miterlimit:10;\" d=\"M 231.613281 554.789062 C 231.613281 558.789062 225.613281 558.789062 225.613281 554.789062 C 225.613281 550.789062 231.613281 550.789062 231.613281 554.789062 \"/>\n",
       "<path style=\"fill:none;stroke-width:1;stroke-linecap:butt;stroke-linejoin:miter;stroke:rgb(0%,0%,0%);stroke-opacity:1;stroke-miterlimit:10;\" d=\"M 29.734375 215.492188 L 29.734375 215.492188 \"/>\n",
       "<path style=\"fill:none;stroke-width:1;stroke-linecap:butt;stroke-linejoin:miter;stroke:rgb(0%,0%,0%);stroke-opacity:1;stroke-miterlimit:10;\" d=\"M 28.039062 286.441406 L 28.039062 286.441406 \"/>\n",
       "<path style=\"fill-rule:nonzero;fill:rgb(100%,0%,0%);fill-opacity:1;stroke-width:1;stroke-linecap:butt;stroke-linejoin:miter;stroke:rgb(0%,0%,0%);stroke-opacity:1;stroke-miterlimit:10;\" d=\"M 523.367188 292.890625 C 523.367188 294.226562 521.367188 294.226562 521.367188 292.890625 C 521.367188 291.558594 523.367188 291.558594 523.367188 292.890625 \"/>\n",
       "<path style=\"fill:none;stroke-width:1;stroke-linecap:butt;stroke-linejoin:miter;stroke:rgb(0%,0%,0%);stroke-opacity:1;stroke-miterlimit:10;\" d=\"M 104.539062 76.398438 L 104.539062 76.398438 \"/>\n",
       "<path style=\"fill:none;stroke-width:1;stroke-linecap:butt;stroke-linejoin:miter;stroke:rgb(0%,0%,0%);stroke-opacity:1;stroke-miterlimit:10;\" d=\"M 385.613281 35.785156 L 385.613281 35.785156 \"/>\n",
       "<path style=\"fill-rule:nonzero;fill:rgb(100%,0%,0%);fill-opacity:1;stroke-width:1;stroke-linecap:butt;stroke-linejoin:miter;stroke:rgb(0%,0%,0%);stroke-opacity:1;stroke-miterlimit:10;\" d=\"M 151.769531 229.714844 C 151.769531 235.050781 143.769531 235.050781 143.769531 229.714844 C 143.769531 224.382812 151.769531 224.382812 151.769531 229.714844 \"/>\n",
       "<path style=\"fill-rule:nonzero;fill:rgb(100%,0%,0%);fill-opacity:1;stroke-width:1;stroke-linecap:butt;stroke-linejoin:miter;stroke:rgb(0%,0%,0%);stroke-opacity:1;stroke-miterlimit:10;\" d=\"M 208.566406 115.328125 C 208.566406 115.996094 207.566406 115.996094 207.566406 115.328125 C 207.566406 114.664062 208.566406 114.664062 208.566406 115.328125 \"/>\n",
       "<path style=\"fill:none;stroke-width:1;stroke-linecap:butt;stroke-linejoin:miter;stroke:rgb(0%,0%,0%);stroke-opacity:1;stroke-miterlimit:10;\" d=\"M 495.761719 509.976562 L 495.761719 509.976562 \"/>\n",
       "<path style=\"fill-rule:nonzero;fill:rgb(100%,0%,0%);fill-opacity:1;stroke-width:1;stroke-linecap:butt;stroke-linejoin:miter;stroke:rgb(0%,0%,0%);stroke-opacity:1;stroke-miterlimit:10;\" d=\"M 553.136719 321.558594 C 553.136719 324.226562 549.136719 324.226562 549.136719 321.558594 C 549.136719 318.894531 553.136719 318.894531 553.136719 321.558594 \"/>\n",
       "<path style=\"fill:none;stroke-width:1;stroke-linecap:butt;stroke-linejoin:miter;stroke:rgb(0%,0%,0%);stroke-opacity:1;stroke-miterlimit:10;\" d=\"M 415.980469 558.742188 L 415.980469 558.742188 \"/>\n",
       "<path style=\"fill-rule:nonzero;fill:rgb(100%,0%,0%);fill-opacity:1;stroke-width:1;stroke-linecap:butt;stroke-linejoin:miter;stroke:rgb(0%,0%,0%);stroke-opacity:1;stroke-miterlimit:10;\" d=\"M 406.515625 401.226562 C 406.515625 412.550781 397.339844 421.726562 386.015625 421.726562 C 374.695312 421.726562 365.515625 412.550781 365.515625 401.226562 C 365.515625 389.90625 374.695312 380.726562 386.015625 380.726562 C 397.339844 380.726562 406.515625 389.90625 406.515625 401.226562 \"/>\n",
       "<path style=\"fill-rule:nonzero;fill:rgb(100%,0%,0%);fill-opacity:1;stroke-width:1;stroke-linecap:butt;stroke-linejoin:miter;stroke:rgb(0%,0%,0%);stroke-opacity:1;stroke-miterlimit:10;\" d=\"M 199.4375 389.675781 C 199.4375 391.011719 197.4375 391.011719 197.4375 389.675781 C 197.4375 388.34375 199.4375 388.34375 199.4375 389.675781 \"/>\n",
       "<path style=\"fill-rule:nonzero;fill:rgb(100%,0%,0%);fill-opacity:1;stroke-width:1;stroke-linecap:butt;stroke-linejoin:miter;stroke:rgb(0%,0%,0%);stroke-opacity:1;stroke-miterlimit:10;\" d=\"M 159.382812 376.289062 C 159.382812 378.957031 155.382812 378.957031 155.382812 376.289062 C 155.382812 373.625 159.382812 373.625 159.382812 376.289062 \"/>\n",
       "<path style=\"fill:none;stroke-width:1;stroke-linecap:butt;stroke-linejoin:miter;stroke:rgb(0%,0%,0%);stroke-opacity:1;stroke-miterlimit:10;\" d=\"M 64.855469 149.578125 L 64.855469 149.578125 \"/>\n",
       "<path style=\"fill:none;stroke-width:1;stroke-linecap:butt;stroke-linejoin:miter;stroke:rgb(0%,0%,0%);stroke-opacity:1;stroke-miterlimit:10;\" d=\"M 20 361.394531 L 20 361.394531 \"/>\n",
       "<path style=\"fill-rule:nonzero;fill:rgb(100%,0%,0%);fill-opacity:1;stroke-width:1;stroke-linecap:butt;stroke-linejoin:miter;stroke:rgb(0%,0%,0%);stroke-opacity:1;stroke-miterlimit:10;\" d=\"M 443.242188 213.3125 C 443.242188 215.3125 440.242188 215.3125 440.242188 213.3125 C 440.242188 211.3125 443.242188 211.3125 443.242188 213.3125 \"/>\n",
       "<path style=\"fill-rule:nonzero;fill:rgb(100%,0%,0%);fill-opacity:1;stroke-width:1;stroke-linecap:butt;stroke-linejoin:miter;stroke:rgb(0%,0%,0%);stroke-opacity:1;stroke-miterlimit:10;\" d=\"M 416.441406 438.394531 C 416.441406 446.953125 409.503906 453.894531 400.941406 453.894531 C 392.382812 453.894531 385.441406 446.953125 385.441406 438.394531 C 385.441406 429.832031 392.382812 422.894531 400.941406 422.894531 C 409.503906 422.894531 416.441406 429.832031 416.441406 438.394531 \"/>\n",
       "<path style=\"fill-rule:nonzero;fill:rgb(100%,0%,0%);fill-opacity:1;stroke-width:1;stroke-linecap:butt;stroke-linejoin:miter;stroke:rgb(0%,0%,0%);stroke-opacity:1;stroke-miterlimit:10;\" d=\"M 295.640625 20 C 295.640625 24 289.640625 24 289.640625 20 C 289.640625 16 295.640625 16 295.640625 20 \"/>\n",
       "<path style=\"fill:none;stroke-width:1;stroke-linecap:butt;stroke-linejoin:miter;stroke:rgb(0%,0%,0%);stroke-opacity:1;stroke-miterlimit:10;\" d=\"M 446.777344 66.714844 L 446.777344 66.714844 \"/>\n",
       "<path style=\"fill-rule:nonzero;fill:rgb(100%,0%,0%);fill-opacity:1;stroke-width:1;stroke-linecap:butt;stroke-linejoin:miter;stroke:rgb(0%,0%,0%);stroke-opacity:1;stroke-miterlimit:10;\" d=\"M 382.660156 401.898438 C 382.660156 413.222656 373.484375 422.398438 362.160156 422.398438 C 350.839844 422.398438 341.660156 413.222656 341.660156 401.898438 C 341.660156 390.578125 350.839844 381.398438 362.160156 381.398438 C 373.484375 381.398438 382.660156 390.578125 382.660156 401.898438 \"/>\n",
       "<path style=\"fill-rule:nonzero;fill:rgb(100%,0%,0%);fill-opacity:1;stroke-width:1;stroke-linecap:butt;stroke-linejoin:miter;stroke:rgb(0%,0%,0%);stroke-opacity:1;stroke-miterlimit:10;\" d=\"M 188.492188 255.339844 C 188.492188 258.929688 185.582031 261.839844 181.992188 261.839844 C 178.402344 261.839844 175.492188 258.929688 175.492188 255.339844 C 175.492188 251.75 178.402344 248.839844 181.992188 248.839844 C 185.582031 248.839844 188.492188 251.75 188.492188 255.339844 \"/>\n",
       "<path style=\"fill:none;stroke-width:1;stroke-linecap:butt;stroke-linejoin:miter;stroke:rgb(0%,0%,0%);stroke-opacity:1;stroke-miterlimit:10;\" d=\"M 336.867188 580 L 336.867188 580 \"/>\n",
       "<path style=\"fill-rule:nonzero;fill:rgb(100%,0%,0%);fill-opacity:1;stroke-width:1;stroke-linecap:butt;stroke-linejoin:miter;stroke:rgb(0%,0%,0%);stroke-opacity:1;stroke-miterlimit:10;\" d=\"M 128.355469 510.535156 C 128.355469 511.871094 126.355469 511.871094 126.355469 510.535156 C 126.355469 509.203125 128.355469 509.203125 128.355469 510.535156 \"/>\n",
       "<path style=\"fill-rule:nonzero;fill:rgb(100%,0%,0%);fill-opacity:1;stroke-width:1;stroke-linecap:butt;stroke-linejoin:miter;stroke:rgb(0%,0%,0%);stroke-opacity:1;stroke-miterlimit:10;\" d=\"M 377.96875 160.882812 C 377.96875 165.550781 370.96875 165.550781 370.96875 160.882812 C 370.96875 156.21875 377.96875 156.21875 377.96875 160.882812 \"/>\n",
       "<path style=\"fill-rule:nonzero;fill:rgb(100%,0%,0%);fill-opacity:1;stroke-width:1;stroke-linecap:butt;stroke-linejoin:miter;stroke:rgb(0%,0%,0%);stroke-opacity:1;stroke-miterlimit:10;\" d=\"M 196.300781 220.179688 C 196.300781 223.769531 193.390625 226.679688 189.800781 226.679688 C 186.210938 226.679688 183.300781 223.769531 183.300781 220.179688 C 183.300781 216.589844 186.210938 213.679688 189.800781 213.679688 C 193.390625 213.679688 196.300781 216.589844 196.300781 220.179688 \"/>\n",
       "<path style=\"fill:none;stroke-width:1;stroke-linecap:butt;stroke-linejoin:miter;stroke:rgb(0%,0%,0%);stroke-opacity:1;stroke-miterlimit:10;\" d=\"M 535.550781 169.339844 L 535.550781 169.339844 \"/>\n",
       "<path style=\"fill-rule:nonzero;fill:rgb(100%,0%,0%);fill-opacity:1;stroke-width:1;stroke-linecap:butt;stroke-linejoin:miter;stroke:rgb(0%,0%,0%);stroke-opacity:1;stroke-miterlimit:10;\" d=\"M 230.261719 515.628906 C 230.261719 519.628906 224.261719 519.628906 224.261719 515.628906 C 224.261719 511.628906 230.261719 511.628906 230.261719 515.628906 \"/>\n",
       "<path style=\"fill:none;stroke-width:1;stroke-linecap:butt;stroke-linejoin:miter;stroke:rgb(0%,0%,0%);stroke-opacity:1;stroke-miterlimit:10;\" d=\"M 506.84375 104.347656 L 506.84375 104.347656 \"/>\n",
       "<path style=\"fill-rule:nonzero;fill:rgb(100%,0%,0%);fill-opacity:1;stroke-width:1;stroke-linecap:butt;stroke-linejoin:miter;stroke:rgb(0%,0%,0%);stroke-opacity:1;stroke-miterlimit:10;\" d=\"M 263.785156 533.398438 C 263.785156 537.398438 257.785156 537.398438 257.785156 533.398438 C 257.785156 529.398438 263.785156 529.398438 263.785156 533.398438 \"/>\n",
       "<path style=\"fill-rule:nonzero;fill:rgb(100%,0%,0%);fill-opacity:1;stroke-width:1;stroke-linecap:butt;stroke-linejoin:miter;stroke:rgb(0%,0%,0%);stroke-opacity:1;stroke-miterlimit:10;\" d=\"M 101.066406 480.53125 C 101.066406 483.199219 97.066406 483.199219 97.066406 480.53125 C 97.066406 477.867188 101.066406 477.867188 101.066406 480.53125 \"/>\n",
       "<path style=\"fill-rule:nonzero;fill:rgb(100%,0%,0%);fill-opacity:1;stroke-width:1;stroke-linecap:butt;stroke-linejoin:miter;stroke:rgb(0%,0%,0%);stroke-opacity:1;stroke-miterlimit:10;\" d=\"M 430.15625 402.867188 C 430.15625 414.1875 420.976562 423.367188 409.65625 423.367188 C 398.332031 423.367188 389.15625 414.1875 389.15625 402.867188 C 389.15625 391.542969 398.332031 382.367188 409.65625 382.367188 C 420.976562 382.367188 430.15625 391.542969 430.15625 402.867188 \"/>\n",
       "<path style=\"fill-rule:nonzero;fill:rgb(100%,0%,0%);fill-opacity:1;stroke-width:1;stroke-linecap:butt;stroke-linejoin:miter;stroke:rgb(0%,0%,0%);stroke-opacity:1;stroke-miterlimit:10;\" d=\"M 574.09375 354.941406 C 574.09375 356.277344 572.09375 356.277344 572.09375 354.941406 C 572.09375 353.609375 574.09375 353.609375 574.09375 354.941406 \"/>\n",
       "<path style=\"fill-rule:nonzero;fill:rgb(100%,0%,0%);fill-opacity:1;stroke-width:1;stroke-linecap:butt;stroke-linejoin:miter;stroke:rgb(0%,0%,0%);stroke-opacity:1;stroke-miterlimit:10;\" d=\"M 175.796875 96.347656 C 175.796875 97.015625 174.796875 97.015625 174.796875 96.347656 C 174.796875 95.683594 175.796875 95.683594 175.796875 96.347656 \"/>\n",
       "<path style=\"fill-rule:nonzero;fill:rgb(100%,0%,0%);fill-opacity:1;stroke-width:1;stroke-linecap:butt;stroke-linejoin:miter;stroke:rgb(0%,0%,0%);stroke-opacity:1;stroke-miterlimit:10;\" d=\"M 69.832031 451.824219 C 69.832031 453.160156 67.832031 453.160156 67.832031 451.824219 C 67.832031 450.492188 69.832031 450.492188 69.832031 451.824219 \"/>\n",
       "<path style=\"fill-rule:nonzero;fill:rgb(100%,0%,0%);fill-opacity:1;stroke-width:1;stroke-linecap:butt;stroke-linejoin:miter;stroke:rgb(0%,0%,0%);stroke-opacity:1;stroke-miterlimit:10;\" d=\"M 406.582031 194.410156 C 406.582031 197.449219 404.121094 199.910156 401.082031 199.910156 C 398.042969 199.910156 395.582031 197.449219 395.582031 194.410156 C 395.582031 191.371094 398.042969 188.910156 401.082031 188.910156 C 404.121094 188.910156 406.582031 191.371094 406.582031 194.410156 \"/>\n",
       "<path style=\"fill:none;stroke-width:1;stroke-linecap:butt;stroke-linejoin:miter;stroke:rgb(0%,0%,0%);stroke-opacity:1;stroke-miterlimit:10;\" d=\"M 543.800781 438.847656 L 543.800781 438.847656 \"/>\n",
       "<path style=\"fill-rule:nonzero;fill:rgb(100%,0%,0%);fill-opacity:1;stroke-width:1;stroke-linecap:butt;stroke-linejoin:miter;stroke:rgb(0%,0%,0%);stroke-opacity:1;stroke-miterlimit:10;\" d=\"M 361.613281 195.859375 C 361.613281 200.523438 354.613281 200.523438 354.613281 195.859375 C 354.613281 191.191406 361.613281 191.191406 361.613281 195.859375 \"/>\n",
       "<path style=\"fill-rule:nonzero;fill:rgb(100%,0%,0%);fill-opacity:1;stroke-width:1;stroke-linecap:butt;stroke-linejoin:miter;stroke:rgb(0%,0%,0%);stroke-opacity:1;stroke-miterlimit:10;\" d=\"M 259.980469 33.28125 C 259.980469 37.28125 253.980469 37.28125 253.980469 33.28125 C 253.980469 29.28125 259.980469 29.28125 259.980469 33.28125 \"/>\n",
       "</g>\n",
       "</svg>\n"
      ],
      "text/plain": [
       "<igraph.drawing.cairo.plot.CairoPlot at 0x7ff0747b7340>"
      ]
     },
     "execution_count": 8,
     "metadata": {
      "image/svg+xml": {
       "isolated": true
      }
     },
     "output_type": "execute_result"
    }
   ],
   "source": [
    "#examine different time points with Forman-Ricci curvature plots, 19th slice\n",
    "ig.plot(nets[19],vertex_size=np.array(vcurv_t[19])*-0.5)"
   ]
  },
  {
   "cell_type": "markdown",
   "id": "bdfa0427",
   "metadata": {},
   "source": [
    "Script 7-2: Store Sales Dataset"
   ]
  },
  {
   "cell_type": "code",
   "execution_count": 8,
   "id": "b06e28d9",
   "metadata": {},
   "outputs": [],
   "source": [
    "#import Store Sales dataset\n",
    "File=\"C:/users/njfar/OneDrive/Desktop/Store_Sales.csv\"\n",
    "\n",
    "pwd=os.getcwd()\n",
    "os.chdir(os.path.dirname(File))\n",
    "mydata=pd.read_csv(os.path.basename(File),encoding='latin1')"
   ]
  },
  {
   "cell_type": "code",
   "execution_count": 9,
   "id": "2457e4cb",
   "metadata": {},
   "outputs": [
    {
     "name": "stderr",
     "output_type": "stream",
     "text": [
      "C:\\Users\\njfar\\anaconda3\\lib\\site-packages\\numpy\\lib\\function_base.py:2691: RuntimeWarning: invalid value encountered in true_divide\n",
      "  c /= stddev[:, None]\n",
      "C:\\Users\\njfar\\anaconda3\\lib\\site-packages\\numpy\\lib\\function_base.py:2692: RuntimeWarning: invalid value encountered in true_divide\n",
      "  c /= stddev[None, :]\n"
     ]
    }
   ],
   "source": [
    "#score in yearly sets with 3 quarter overlap\n",
    "vcurv_t=[]\n",
    "vcurv_ave=[]\n",
    "eig_t=[]\n",
    "eig_ave=[]\n",
    "nets=[]\n",
    "for Month in range(2,54):\n",
    "    data=mydata.iloc[(Month-2):(Month),1:6]\n",
    "    cor=np.corrcoef(data.transpose())\n",
    "    cor[cor>=0.9]=1\n",
    "    cor[cor<0.9]=0\n",
    "    stores=Graph.Adjacency(cor,diag=False)\n",
    "    edge_list=stores.get_edgelist()\n",
    "    self_loop=[]\n",
    "    for i in range(0,46):\n",
    "        self=(i,i)\n",
    "        self_loop.append(self)\n",
    "    to_remove=[]\n",
    "    for i in edge_list:\n",
    "        for j in self_loop:\n",
    "            if i==j:\n",
    "                to_remove.append(i)\n",
    "    stores.delete_edges(to_remove)\n",
    "    nets.append(stores)\n",
    "    d=Graph.degree(stores)\n",
    "    e=Graph.pagerank(stores)\n",
    "    eig_t.append(e)\n",
    "    eig_ave.append(np.mean(e))\n",
    "    ecurvw=[]\n",
    "    for edge in stores.es:\n",
    "        s=edge.source\n",
    "        t=edge.target\n",
    "        ecurvw.append(2-d[s]-d[t])\n",
    "    vcurvw=[]\n",
    "    for vertex in stores.vs:\n",
    "        inc=Graph.incident(stores,vertex)\n",
    "        inc_curv=[]\n",
    "        for i in inc:\n",
    "            inc_curv.append(ecurvw[i])\n",
    "        vcurvw.append(sum(inc_curv))\n",
    "    vcurv_t.append(vcurvw)\n",
    "    vcurv_ave.append(np.mean(vcurv_t))"
   ]
  },
  {
   "cell_type": "code",
   "execution_count": 10,
   "id": "fd421ef6",
   "metadata": {},
   "outputs": [
    {
     "data": {
      "image/png": "[encoded data removed]",
      "text/plain": [
       "<Figure size 640x480 with 1 Axes>"
      ]
     },
     "metadata": {},
     "output_type": "display_data"
    }
   ],
   "source": [
    "#plot metric averages across time slices\n",
    "time=range(0,52)\n",
    "plt.plot(time, eig_ave, label = \"Pagerank Average\")\n",
    "plt.plot(time, vcurv_ave, label = \"Forman-Ricci Curvature Avereage\")\n",
    "plt.legend()\n",
    "plt.show()"
   ]
  },
  {
   "cell_type": "code",
   "execution_count": 11,
   "id": "39b145ce",
   "metadata": {},
   "outputs": [
    {
     "data": {
      "image/svg+xml": [
       "<?xml version=\"1.0\" encoding=\"UTF-8\"?>\n",
       "<svg xmlns=\"http://www.w3.org/2000/svg\" xmlns:xlink=\"http://www.w3.org/1999/xlink\" width=\"600\" height=\"600\" viewBox=\"0 0 600 600\">\n",
       "<rect x=\"-60\" y=\"-60\" width=\"720\" height=\"720\" fill=\"rgb(100%, 100%, 100%)\" fill-opacity=\"1\"/>\n",
       "<path fill=\"none\" stroke-width=\"1\" stroke-linecap=\"butt\" stroke-linejoin=\"miter\" stroke=\"rgb(26.666667%, 26.666667%, 26.666667%)\" stroke-opacity=\"1\" stroke-miterlimit=\"10\" d=\"M 580 361.359375 C 502.296875 411.804688 443.863281 523.253906 503.453125 570.105469 \"/>\n",
       "<path fill-rule=\"nonzero\" fill=\"rgb(26.666667%, 26.666667%, 26.666667%)\" fill-opacity=\"1\" d=\"M 514.667969 578.921875 L 500.585938 573.746094 L 506.316406 566.460938 L 514.667969 578.921875 \"/>\n",
       "<path fill=\"none\" stroke-width=\"1\" stroke-linecap=\"butt\" stroke-linejoin=\"miter\" stroke=\"rgb(26.666667%, 26.666667%, 26.666667%)\" stroke-opacity=\"1\" stroke-miterlimit=\"10\" d=\"M 515.066406 579.234375 C 589.394531 528.734375 615.820312 459.609375 585.058594 375.238281 \"/>\n",
       "<path fill-rule=\"nonzero\" fill=\"rgb(26.666667%, 26.666667%, 26.666667%)\" fill-opacity=\"1\" d=\"M 580.171875 361.835938 L 589.414062 373.648438 L 580.707031 376.824219 L 580.171875 361.835938 \"/>\n",
       "<path fill=\"none\" stroke-width=\"1\" stroke-linecap=\"butt\" stroke-linejoin=\"miter\" stroke=\"rgb(0%, 0%, 0%)\" stroke-opacity=\"1\" stroke-miterlimit=\"10\" d=\"M 186.898438 20 L 186.898438 20 \"/>\n",
       "<path fill-rule=\"nonzero\" fill=\"rgb(100%, 0%, 0%)\" fill-opacity=\"1\" stroke-width=\"1\" stroke-linecap=\"butt\" stroke-linejoin=\"miter\" stroke=\"rgb(0%, 0%, 0%)\" stroke-opacity=\"1\" stroke-miterlimit=\"10\" d=\"M 580.5 361.359375 C 580.5 362.023438 579.5 362.023438 579.5 361.359375 C 579.5 360.691406 580.5 360.691406 580.5 361.359375 \"/>\n",
       "<path fill-rule=\"nonzero\" fill=\"rgb(100%, 0%, 0%)\" fill-opacity=\"1\" stroke-width=\"1\" stroke-linecap=\"butt\" stroke-linejoin=\"miter\" stroke=\"rgb(0%, 0%, 0%)\" stroke-opacity=\"1\" stroke-miterlimit=\"10\" d=\"M 515.566406 579.234375 C 515.566406 579.902344 514.566406 579.902344 514.566406 579.234375 C 514.566406 578.566406 515.566406 578.566406 515.566406 579.234375 \"/>\n",
       "<path fill=\"none\" stroke-width=\"1\" stroke-linecap=\"butt\" stroke-linejoin=\"miter\" stroke=\"rgb(0%, 0%, 0%)\" stroke-opacity=\"1\" stroke-miterlimit=\"10\" d=\"M 20 580 L 20 580 \"/>\n",
       "</svg>\n"
      ],
      "text/plain": [
       "<igraph.drawing.cairo.plot.CairoPlot at 0x22833329df0>"
      ]
     },
     "execution_count": 11,
     "metadata": {
      "image/svg+xml": {
       "isolated": true
      }
     },
     "output_type": "execute_result"
    }
   ],
   "source": [
    "#examine different time points with Forman-Ricci curvature plots, tenth slice\n",
    "ig.plot(nets[10],vertex_size=np.array(vcurv_t[10])*-0.5)"
   ]
  },
  {
   "cell_type": "code",
   "execution_count": 12,
   "id": "522753d0",
   "metadata": {},
   "outputs": [
    {
     "data": {
      "image/svg+xml": [
       "<?xml version=\"1.0\" encoding=\"UTF-8\"?>\n",
       "<svg xmlns=\"http://www.w3.org/2000/svg\" xmlns:xlink=\"http://www.w3.org/1999/xlink\" width=\"600\" height=\"600\" viewBox=\"0 0 600 600\">\n",
       "<rect x=\"-60\" y=\"-60\" width=\"720\" height=\"720\" fill=\"rgb(100%, 100%, 100%)\" fill-opacity=\"1\"/>\n",
       "<path fill=\"none\" stroke-width=\"1\" stroke-linecap=\"butt\" stroke-linejoin=\"miter\" stroke=\"rgb(26.666667%, 26.666667%, 26.666667%)\" stroke-opacity=\"1\" stroke-miterlimit=\"10\" d=\"M 580 425.015625 C 415.378906 374.753906 316.488281 456.722656 191.550781 565.570312 \"/>\n",
       "<path fill-rule=\"nonzero\" fill=\"rgb(26.666667%, 26.666667%, 26.666667%)\" fill-opacity=\"1\" d=\"M 180.792969 574.941406 L 188.503906 562.074219 L 194.59375 569.0625 L 180.792969 574.941406 \"/>\n",
       "<path fill=\"none\" stroke-width=\"1\" stroke-linecap=\"butt\" stroke-linejoin=\"miter\" stroke=\"rgb(26.666667%, 26.666667%, 26.666667%)\" stroke-opacity=\"1\" stroke-miterlimit=\"10\" d=\"M 580 425.015625 C 464.199219 205.503906 284.09375 117.703125 41.566406 170.308594 \"/>\n",
       "<path fill-rule=\"nonzero\" fill=\"rgb(26.666667%, 26.666667%, 26.666667%)\" fill-opacity=\"1\" d=\"M 27.625 173.332031 L 40.585938 165.777344 L 42.550781 174.839844 L 27.625 173.332031 \"/>\n",
       "<path fill=\"none\" stroke-width=\"1\" stroke-linecap=\"butt\" stroke-linejoin=\"miter\" stroke=\"rgb(26.666667%, 26.666667%, 26.666667%)\" stroke-opacity=\"1\" stroke-miterlimit=\"10\" d=\"M 580 425.015625 C 632.785156 259.785156 589.542969 125.132812 443.421875 31.761719 \"/>\n",
       "<path fill-rule=\"nonzero\" fill=\"rgb(26.666667%, 26.666667%, 26.666667%)\" fill-opacity=\"1\" d=\"M 431.398438 24.082031 L 445.917969 27.855469 L 440.925781 35.667969 L 431.398438 24.082031 \"/>\n",
       "<path fill=\"none\" stroke-width=\"1\" stroke-linecap=\"butt\" stroke-linejoin=\"miter\" stroke=\"rgb(26.666667%, 26.666667%, 26.666667%)\" stroke-opacity=\"1\" stroke-miterlimit=\"10\" d=\"M 174.984375 580 C 340.214844 632.785156 474.867188 589.542969 568.238281 443.421875 \"/>\n",
       "<path fill-rule=\"nonzero\" fill=\"rgb(26.666667%, 26.666667%, 26.666667%)\" fill-opacity=\"1\" d=\"M 575.917969 431.398438 L 572.144531 445.917969 L 564.332031 440.925781 L 575.917969 431.398438 \"/>\n",
       "<path fill=\"none\" stroke-width=\"1\" stroke-linecap=\"butt\" stroke-linejoin=\"miter\" stroke=\"rgb(26.666667%, 26.666667%, 26.666667%)\" stroke-opacity=\"1\" stroke-miterlimit=\"10\" d=\"M 174.984375 580 C 231.085938 412.570312 196.964844 197.605469 41.601562 177.746094 \"/>\n",
       "<path fill-rule=\"nonzero\" fill=\"rgb(26.666667%, 26.666667%, 26.666667%)\" fill-opacity=\"1\" d=\"M 27.449219 175.9375 L 42.1875 173.148438 L 41.011719 182.34375 L 27.449219 175.9375 \"/>\n",
       "<path fill=\"none\" stroke-width=\"1\" stroke-linecap=\"butt\" stroke-linejoin=\"miter\" stroke=\"rgb(26.666667%, 26.666667%, 26.666667%)\" stroke-opacity=\"1\" stroke-miterlimit=\"10\" d=\"M 174.984375 580 C 396.761719 464.667969 543.289062 254.117188 434.71875 39.207031 \"/>\n",
       "<path fill-rule=\"nonzero\" fill=\"rgb(26.666667%, 26.666667%, 26.666667%)\" fill-opacity=\"1\" d=\"M 428.285156 26.476562 L 438.855469 37.117188 L 430.582031 41.296875 L 428.285156 26.476562 \"/>\n",
       "<path fill=\"none\" stroke-width=\"1\" stroke-linecap=\"butt\" stroke-linejoin=\"miter\" stroke=\"rgb(26.666667%, 26.666667%, 26.666667%)\" stroke-opacity=\"1\" stroke-miterlimit=\"10\" d=\"M 20 174.984375 C 135.800781 394.496094 315.90625 482.296875 558.433594 429.691406 \"/>\n",
       "<path fill-rule=\"nonzero\" fill=\"rgb(26.666667%, 26.666667%, 26.666667%)\" fill-opacity=\"1\" d=\"M 572.375 426.667969 L 559.414062 434.222656 L 557.449219 425.160156 L 572.375 426.667969 \"/>\n",
       "<path fill=\"none\" stroke-width=\"1\" stroke-linecap=\"butt\" stroke-linejoin=\"miter\" stroke=\"rgb(26.666667%, 26.666667%, 26.666667%)\" stroke-opacity=\"1\" stroke-miterlimit=\"10\" d=\"M 20 174.984375 C -32.785156 340.214844 10.457031 474.867188 156.578125 568.238281 \"/>\n",
       "<path fill-rule=\"nonzero\" fill=\"rgb(26.666667%, 26.666667%, 26.666667%)\" fill-opacity=\"1\" d=\"M 168.601562 575.917969 L 154.082031 572.144531 L 159.074219 564.332031 L 168.601562 575.917969 \"/>\n",
       "<path fill=\"none\" stroke-width=\"1\" stroke-linecap=\"butt\" stroke-linejoin=\"miter\" stroke=\"rgb(26.666667%, 26.666667%, 26.666667%)\" stroke-opacity=\"1\" stroke-miterlimit=\"10\" d=\"M 20 174.984375 C 184.621094 225.246094 283.511719 143.277344 408.449219 34.429688 \"/>\n",
       "<path fill-rule=\"nonzero\" fill=\"rgb(26.666667%, 26.666667%, 26.666667%)\" fill-opacity=\"1\" d=\"M 419.207031 25.058594 L 411.496094 37.925781 L 405.40625 30.9375 L 419.207031 25.058594 \"/>\n",
       "<path fill=\"none\" stroke-width=\"1\" stroke-linecap=\"butt\" stroke-linejoin=\"miter\" stroke=\"rgb(26.666667%, 26.666667%, 26.666667%)\" stroke-opacity=\"1\" stroke-miterlimit=\"10\" d=\"M 425.015625 20 C 368.914062 187.429688 403.035156 402.394531 558.398438 422.253906 \"/>\n",
       "<path fill-rule=\"nonzero\" fill=\"rgb(26.666667%, 26.666667%, 26.666667%)\" fill-opacity=\"1\" d=\"M 572.550781 424.0625 L 557.8125 426.851562 L 558.988281 417.65625 L 572.550781 424.0625 \"/>\n",
       "<path fill=\"none\" stroke-width=\"1\" stroke-linecap=\"butt\" stroke-linejoin=\"miter\" stroke=\"rgb(26.666667%, 26.666667%, 26.666667%)\" stroke-opacity=\"1\" stroke-miterlimit=\"10\" d=\"M 425.015625 20 C 203.238281 135.332031 56.710938 345.882812 165.28125 560.792969 \"/>\n",
       "<path fill-rule=\"nonzero\" fill=\"rgb(26.666667%, 26.666667%, 26.666667%)\" fill-opacity=\"1\" d=\"M 171.714844 573.523438 L 161.144531 562.882812 L 169.417969 558.703125 L 171.714844 573.523438 \"/>\n",
       "<path fill=\"none\" stroke-width=\"1\" stroke-linecap=\"butt\" stroke-linejoin=\"miter\" stroke=\"rgb(26.666667%, 26.666667%, 26.666667%)\" stroke-opacity=\"1\" stroke-miterlimit=\"10\" d=\"M 425.015625 20 C 259.785156 -32.785156 125.132812 10.457031 31.761719 156.578125 \"/>\n",
       "<path fill-rule=\"nonzero\" fill=\"rgb(26.666667%, 26.666667%, 26.666667%)\" fill-opacity=\"1\" d=\"M 24.082031 168.601562 L 27.855469 154.082031 L 35.667969 159.074219 L 24.082031 168.601562 \"/>\n",
       "<path fill-rule=\"nonzero\" fill=\"rgb(100%, 0%, 0%)\" fill-opacity=\"1\" stroke-width=\"1\" stroke-linecap=\"butt\" stroke-linejoin=\"miter\" stroke=\"rgb(0%, 0%, 0%)\" stroke-opacity=\"1\" stroke-miterlimit=\"10\" d=\"M 587.5 425.015625 C 587.5 429.15625 584.140625 432.515625 580 432.515625 C 575.859375 432.515625 572.5 429.15625 572.5 425.015625 C 572.5 420.871094 575.859375 417.515625 580 417.515625 C 584.140625 417.515625 587.5 420.871094 587.5 425.015625 \"/>\n",
       "<path fill-rule=\"nonzero\" fill=\"rgb(100%, 0%, 0%)\" fill-opacity=\"1\" stroke-width=\"1\" stroke-linecap=\"butt\" stroke-linejoin=\"miter\" stroke=\"rgb(0%, 0%, 0%)\" stroke-opacity=\"1\" stroke-miterlimit=\"10\" d=\"M 182.484375 580 C 182.484375 584.140625 179.128906 587.5 174.984375 587.5 C 170.84375 587.5 167.484375 584.140625 167.484375 580 C 167.484375 575.859375 170.84375 572.5 174.984375 572.5 C 179.128906 572.5 182.484375 575.859375 182.484375 580 \"/>\n",
       "<path fill-rule=\"nonzero\" fill=\"rgb(100%, 0%, 0%)\" fill-opacity=\"1\" stroke-width=\"1\" stroke-linecap=\"butt\" stroke-linejoin=\"miter\" stroke=\"rgb(0%, 0%, 0%)\" stroke-opacity=\"1\" stroke-miterlimit=\"10\" d=\"M 27.5 174.984375 C 27.5 179.128906 24.140625 182.484375 20 182.484375 C 15.859375 182.484375 12.5 179.128906 12.5 174.984375 C 12.5 170.84375 15.859375 167.484375 20 167.484375 C 24.140625 167.484375 27.5 170.84375 27.5 174.984375 \"/>\n",
       "<path fill-rule=\"nonzero\" fill=\"rgb(100%, 0%, 0%)\" fill-opacity=\"1\" stroke-width=\"1\" stroke-linecap=\"butt\" stroke-linejoin=\"miter\" stroke=\"rgb(0%, 0%, 0%)\" stroke-opacity=\"1\" stroke-miterlimit=\"10\" d=\"M 432.515625 20 C 432.515625 24.140625 429.15625 27.5 425.015625 27.5 C 420.871094 27.5 417.515625 24.140625 417.515625 20 C 417.515625 15.859375 420.871094 12.5 425.015625 12.5 C 429.15625 12.5 432.515625 15.859375 432.515625 20 \"/>\n",
       "</svg>\n"
      ],
      "text/plain": [
       "<igraph.drawing.cairo.plot.CairoPlot at 0x228333294c0>"
      ]
     },
     "execution_count": 12,
     "metadata": {
      "image/svg+xml": {
       "isolated": true
      }
     },
     "output_type": "execute_result"
    }
   ],
   "source": [
    "#examine different time points with Forman-Ricci curvature plots, thirtieth slice\n",
    "ig.plot(nets[30],vertex_size=np.array(vcurv_t[30])*-0.5)"
   ]
  },
  {
   "cell_type": "code",
   "execution_count": null,
   "id": "8f47d678",
   "metadata": {},
   "outputs": [],
   "source": []
  }
 ],
 "metadata": {
  "kernelspec": {
   "display_name": "Python 3 (ipykernel)",
   "language": "python",
   "name": "python3"
  },
  "language_info": {
   "codemirror_mode": {
    "name": "ipython",
    "version": 3
   },
   "file_extension": ".py",
   "mimetype": "text/x-python",
   "name": "python",
   "nbconvert_exporter": "python",
   "pygments_lexer": "ipython3",
   "version": "3.9.7"
  }
 },
 "nbformat": 4,
 "nbformat_minor": 5
}
